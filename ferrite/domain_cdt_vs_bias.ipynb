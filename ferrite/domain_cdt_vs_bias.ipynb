{
 "cells": [
  {
   "cell_type": "code",
   "execution_count": 1,
   "metadata": {
    "collapsed": false,
    "deletable": true,
    "editable": true
   },
   "outputs": [],
   "source": [
    "import os\n",
    "import sys\n",
    "module_path = os.path.abspath(os.path.join('..'))\n",
    "\n",
    "if module_path not in sys.path:\n",
    "    sys.path.append(module_path)\n",
    "    \n",
    "from common.read_COMSOL_data import *"
   ]
  },
  {
   "cell_type": "code",
   "execution_count": 2,
   "metadata": {
    "collapsed": false,
    "deletable": true,
    "editable": true
   },
   "outputs": [],
   "source": [
    "CURR_PATH = os.getcwd()\n",
    "DATA_PATH = os.path.join(CURR_PATH, 'data')"
   ]
  },
  {
   "cell_type": "code",
   "execution_count": 3,
   "metadata": {
    "collapsed": false,
    "deletable": true,
    "editable": true
   },
   "outputs": [],
   "source": [
    "file_path_foo = os.path.join(DATA_PATH, '20171006_al_sim_data.csv')\n",
    "data_foo = read_COMSOL_csv(file_path_foo, name_list=['tip_curv', 'freq', 'y21_imag', 'y21_real'])"
   ]
  },
  {
   "cell_type": "code",
   "execution_count": 4,
   "metadata": {
    "collapsed": false,
    "deletable": true,
    "editable": true
   },
   "outputs": [
    {
     "data": {
      "text/html": [
       "<div>\n",
       "<table border=\"1\" class=\"dataframe\">\n",
       "  <thead>\n",
       "    <tr style=\"text-align: right;\">\n",
       "      <th></th>\n",
       "      <th>tip_curv</th>\n",
       "      <th>freq</th>\n",
       "      <th>y21_imag</th>\n",
       "      <th>y21_real</th>\n",
       "    </tr>\n",
       "  </thead>\n",
       "  <tbody>\n",
       "    <tr>\n",
       "      <th>0</th>\n",
       "      <td>100</td>\n",
       "      <td>1000000000</td>\n",
       "      <td>-503.715356</td>\n",
       "      <td>-7.566850e-07</td>\n",
       "    </tr>\n",
       "    <tr>\n",
       "      <th>1</th>\n",
       "      <td>150</td>\n",
       "      <td>1000000000</td>\n",
       "      <td>-550.188526</td>\n",
       "      <td>-1.132210e-06</td>\n",
       "    </tr>\n",
       "    <tr>\n",
       "      <th>2</th>\n",
       "      <td>200</td>\n",
       "      <td>1000000000</td>\n",
       "      <td>-582.258159</td>\n",
       "      <td>-1.454103e-06</td>\n",
       "    </tr>\n",
       "    <tr>\n",
       "      <th>3</th>\n",
       "      <td>250</td>\n",
       "      <td>1000000000</td>\n",
       "      <td>-608.490844</td>\n",
       "      <td>-1.750931e-06</td>\n",
       "    </tr>\n",
       "    <tr>\n",
       "      <th>4</th>\n",
       "      <td>300</td>\n",
       "      <td>1000000000</td>\n",
       "      <td>-628.883669</td>\n",
       "      <td>-2.025435e-06</td>\n",
       "    </tr>\n",
       "  </tbody>\n",
       "</table>\n",
       "</div>"
      ],
      "text/plain": [
       "   tip_curv        freq    y21_imag      y21_real\n",
       "0       100  1000000000 -503.715356 -7.566850e-07\n",
       "1       150  1000000000 -550.188526 -1.132210e-06\n",
       "2       200  1000000000 -582.258159 -1.454103e-06\n",
       "3       250  1000000000 -608.490844 -1.750931e-06\n",
       "4       300  1000000000 -628.883669 -2.025435e-06"
      ]
     },
     "execution_count": 4,
     "metadata": {},
     "output_type": "execute_result"
    }
   ],
   "source": [
    "data_foo"
   ]
  },
  {
   "cell_type": "code",
   "execution_count": 5,
   "metadata": {
    "collapsed": true,
    "deletable": true,
    "editable": true
   },
   "outputs": [],
   "source": [
    "file_path_bar = os.path.join(DATA_PATH, '20171006_lfo_sim_data.csv')\n",
    "data_bar = read_COMSOL_csv(file_path_bar, name_list=['tip_curv', 'cdt', 'freq', 'y21_imag', 'y21_real'])"
   ]
  },
  {
   "cell_type": "code",
   "execution_count": 6,
   "metadata": {
    "collapsed": false,
    "deletable": true,
    "editable": true
   },
   "outputs": [
    {
     "data": {
      "text/html": [
       "<div>\n",
       "<table border=\"1\" class=\"dataframe\">\n",
       "  <thead>\n",
       "    <tr style=\"text-align: right;\">\n",
       "      <th></th>\n",
       "      <th>tip_curv</th>\n",
       "      <th>cdt</th>\n",
       "      <th>freq</th>\n",
       "      <th>y21_imag</th>\n",
       "      <th>y21_real</th>\n",
       "    </tr>\n",
       "  </thead>\n",
       "  <tbody>\n",
       "    <tr>\n",
       "      <th>0</th>\n",
       "      <td>100</td>\n",
       "      <td>0.010000</td>\n",
       "      <td>1000000000</td>\n",
       "      <td>-444.378966</td>\n",
       "      <td>-0.512562</td>\n",
       "    </tr>\n",
       "    <tr>\n",
       "      <th>1</th>\n",
       "      <td>100</td>\n",
       "      <td>0.017783</td>\n",
       "      <td>1000000000</td>\n",
       "      <td>-444.388003</td>\n",
       "      <td>-0.911345</td>\n",
       "    </tr>\n",
       "    <tr>\n",
       "      <th>2</th>\n",
       "      <td>100</td>\n",
       "      <td>0.031623</td>\n",
       "      <td>1000000000</td>\n",
       "      <td>-444.416564</td>\n",
       "      <td>-1.619876</td>\n",
       "    </tr>\n",
       "    <tr>\n",
       "      <th>3</th>\n",
       "      <td>100</td>\n",
       "      <td>0.056234</td>\n",
       "      <td>1000000000</td>\n",
       "      <td>-444.506701</td>\n",
       "      <td>-2.876379</td>\n",
       "    </tr>\n",
       "    <tr>\n",
       "      <th>4</th>\n",
       "      <td>100</td>\n",
       "      <td>0.100000</td>\n",
       "      <td>1000000000</td>\n",
       "      <td>-444.789942</td>\n",
       "      <td>-5.091465</td>\n",
       "    </tr>\n",
       "    <tr>\n",
       "      <th>5</th>\n",
       "      <td>100</td>\n",
       "      <td>0.177828</td>\n",
       "      <td>1000000000</td>\n",
       "      <td>-445.668083</td>\n",
       "      <td>-8.924374</td>\n",
       "    </tr>\n",
       "    <tr>\n",
       "      <th>6</th>\n",
       "      <td>100</td>\n",
       "      <td>0.316228</td>\n",
       "      <td>1000000000</td>\n",
       "      <td>-448.281549</td>\n",
       "      <td>-15.185431</td>\n",
       "    </tr>\n",
       "    <tr>\n",
       "      <th>7</th>\n",
       "      <td>100</td>\n",
       "      <td>0.562341</td>\n",
       "      <td>1000000000</td>\n",
       "      <td>-455.214359</td>\n",
       "      <td>-23.795406</td>\n",
       "    </tr>\n",
       "    <tr>\n",
       "      <th>8</th>\n",
       "      <td>100</td>\n",
       "      <td>1.000000</td>\n",
       "      <td>1000000000</td>\n",
       "      <td>-469.230572</td>\n",
       "      <td>-30.930436</td>\n",
       "    </tr>\n",
       "    <tr>\n",
       "      <th>9</th>\n",
       "      <td>100</td>\n",
       "      <td>1.778279</td>\n",
       "      <td>1000000000</td>\n",
       "      <td>-486.850098</td>\n",
       "      <td>-29.984689</td>\n",
       "    </tr>\n",
       "    <tr>\n",
       "      <th>10</th>\n",
       "      <td>100</td>\n",
       "      <td>3.162278</td>\n",
       "      <td>1000000000</td>\n",
       "      <td>-499.431471</td>\n",
       "      <td>-21.975129</td>\n",
       "    </tr>\n",
       "    <tr>\n",
       "      <th>11</th>\n",
       "      <td>100</td>\n",
       "      <td>5.623413</td>\n",
       "      <td>1000000000</td>\n",
       "      <td>-505.202272</td>\n",
       "      <td>-13.683968</td>\n",
       "    </tr>\n",
       "    <tr>\n",
       "      <th>12</th>\n",
       "      <td>100</td>\n",
       "      <td>10.000000</td>\n",
       "      <td>1000000000</td>\n",
       "      <td>-507.299399</td>\n",
       "      <td>-7.966719</td>\n",
       "    </tr>\n",
       "    <tr>\n",
       "      <th>13</th>\n",
       "      <td>100</td>\n",
       "      <td>17.782794</td>\n",
       "      <td>1000000000</td>\n",
       "      <td>-507.994349</td>\n",
       "      <td>-4.530676</td>\n",
       "    </tr>\n",
       "    <tr>\n",
       "      <th>14</th>\n",
       "      <td>100</td>\n",
       "      <td>31.622777</td>\n",
       "      <td>1000000000</td>\n",
       "      <td>-508.217458</td>\n",
       "      <td>-2.556935</td>\n",
       "    </tr>\n",
       "    <tr>\n",
       "      <th>15</th>\n",
       "      <td>100</td>\n",
       "      <td>56.234133</td>\n",
       "      <td>1000000000</td>\n",
       "      <td>-508.288352</td>\n",
       "      <td>-1.439505</td>\n",
       "    </tr>\n",
       "    <tr>\n",
       "      <th>16</th>\n",
       "      <td>100</td>\n",
       "      <td>100.000000</td>\n",
       "      <td>1000000000</td>\n",
       "      <td>-508.310805</td>\n",
       "      <td>-0.809784</td>\n",
       "    </tr>\n",
       "    <tr>\n",
       "      <th>17</th>\n",
       "      <td>100</td>\n",
       "      <td>177.827941</td>\n",
       "      <td>1000000000</td>\n",
       "      <td>-508.317908</td>\n",
       "      <td>-0.455427</td>\n",
       "    </tr>\n",
       "    <tr>\n",
       "      <th>18</th>\n",
       "      <td>100</td>\n",
       "      <td>316.227766</td>\n",
       "      <td>1000000000</td>\n",
       "      <td>-508.320155</td>\n",
       "      <td>-0.256115</td>\n",
       "    </tr>\n",
       "    <tr>\n",
       "      <th>19</th>\n",
       "      <td>100</td>\n",
       "      <td>562.341325</td>\n",
       "      <td>1000000000</td>\n",
       "      <td>-508.320866</td>\n",
       "      <td>-0.144025</td>\n",
       "    </tr>\n",
       "    <tr>\n",
       "      <th>20</th>\n",
       "      <td>100</td>\n",
       "      <td>1000.000000</td>\n",
       "      <td>1000000000</td>\n",
       "      <td>-508.321090</td>\n",
       "      <td>-0.080992</td>\n",
       "    </tr>\n",
       "    <tr>\n",
       "      <th>21</th>\n",
       "      <td>100</td>\n",
       "      <td>1778.279410</td>\n",
       "      <td>1000000000</td>\n",
       "      <td>-508.321161</td>\n",
       "      <td>-0.045545</td>\n",
       "    </tr>\n",
       "    <tr>\n",
       "      <th>22</th>\n",
       "      <td>100</td>\n",
       "      <td>3162.277660</td>\n",
       "      <td>1000000000</td>\n",
       "      <td>-508.321184</td>\n",
       "      <td>-0.025612</td>\n",
       "    </tr>\n",
       "    <tr>\n",
       "      <th>23</th>\n",
       "      <td>100</td>\n",
       "      <td>5623.413252</td>\n",
       "      <td>1000000000</td>\n",
       "      <td>-508.321191</td>\n",
       "      <td>-0.014403</td>\n",
       "    </tr>\n",
       "    <tr>\n",
       "      <th>24</th>\n",
       "      <td>100</td>\n",
       "      <td>10000.000000</td>\n",
       "      <td>1000000000</td>\n",
       "      <td>-508.321193</td>\n",
       "      <td>-0.008099</td>\n",
       "    </tr>\n",
       "    <tr>\n",
       "      <th>25</th>\n",
       "      <td>100</td>\n",
       "      <td>17782.794100</td>\n",
       "      <td>1000000000</td>\n",
       "      <td>-508.321194</td>\n",
       "      <td>-0.004555</td>\n",
       "    </tr>\n",
       "    <tr>\n",
       "      <th>26</th>\n",
       "      <td>100</td>\n",
       "      <td>31622.776602</td>\n",
       "      <td>1000000000</td>\n",
       "      <td>-508.321194</td>\n",
       "      <td>-0.002561</td>\n",
       "    </tr>\n",
       "    <tr>\n",
       "      <th>27</th>\n",
       "      <td>100</td>\n",
       "      <td>56234.132519</td>\n",
       "      <td>1000000000</td>\n",
       "      <td>-508.321194</td>\n",
       "      <td>-0.001440</td>\n",
       "    </tr>\n",
       "    <tr>\n",
       "      <th>28</th>\n",
       "      <td>100</td>\n",
       "      <td>100000.000000</td>\n",
       "      <td>1000000000</td>\n",
       "      <td>-508.321194</td>\n",
       "      <td>-0.000810</td>\n",
       "    </tr>\n",
       "    <tr>\n",
       "      <th>29</th>\n",
       "      <td>100</td>\n",
       "      <td>177827.941004</td>\n",
       "      <td>1000000000</td>\n",
       "      <td>-508.321194</td>\n",
       "      <td>-0.000455</td>\n",
       "    </tr>\n",
       "    <tr>\n",
       "      <th>...</th>\n",
       "      <td>...</td>\n",
       "      <td>...</td>\n",
       "      <td>...</td>\n",
       "      <td>...</td>\n",
       "      <td>...</td>\n",
       "    </tr>\n",
       "    <tr>\n",
       "      <th>135</th>\n",
       "      <td>300</td>\n",
       "      <td>0.056234</td>\n",
       "      <td>1000000000</td>\n",
       "      <td>-499.593164</td>\n",
       "      <td>-5.330303</td>\n",
       "    </tr>\n",
       "    <tr>\n",
       "      <th>136</th>\n",
       "      <td>300</td>\n",
       "      <td>0.100000</td>\n",
       "      <td>1000000000</td>\n",
       "      <td>-500.030736</td>\n",
       "      <td>-9.447861</td>\n",
       "    </tr>\n",
       "    <tr>\n",
       "      <th>137</th>\n",
       "      <td>300</td>\n",
       "      <td>0.177828</td>\n",
       "      <td>1000000000</td>\n",
       "      <td>-501.394250</td>\n",
       "      <td>-16.629931</td>\n",
       "    </tr>\n",
       "    <tr>\n",
       "      <th>138</th>\n",
       "      <td>300</td>\n",
       "      <td>0.316228</td>\n",
       "      <td>1000000000</td>\n",
       "      <td>-505.515611</td>\n",
       "      <td>-28.657699</td>\n",
       "    </tr>\n",
       "    <tr>\n",
       "      <th>139</th>\n",
       "      <td>300</td>\n",
       "      <td>0.562341</td>\n",
       "      <td>1000000000</td>\n",
       "      <td>-516.942812</td>\n",
       "      <td>-46.504283</td>\n",
       "    </tr>\n",
       "    <tr>\n",
       "      <th>140</th>\n",
       "      <td>300</td>\n",
       "      <td>1.000000</td>\n",
       "      <td>1000000000</td>\n",
       "      <td>-542.641059</td>\n",
       "      <td>-65.299650</td>\n",
       "    </tr>\n",
       "    <tr>\n",
       "      <th>141</th>\n",
       "      <td>300</td>\n",
       "      <td>1.778279</td>\n",
       "      <td>1000000000</td>\n",
       "      <td>-581.488039</td>\n",
       "      <td>-70.744928</td>\n",
       "    </tr>\n",
       "    <tr>\n",
       "      <th>142</th>\n",
       "      <td>300</td>\n",
       "      <td>3.162278</td>\n",
       "      <td>1000000000</td>\n",
       "      <td>-615.459034</td>\n",
       "      <td>-56.776000</td>\n",
       "    </tr>\n",
       "    <tr>\n",
       "      <th>143</th>\n",
       "      <td>300</td>\n",
       "      <td>5.623413</td>\n",
       "      <td>1000000000</td>\n",
       "      <td>-633.348614</td>\n",
       "      <td>-36.996349</td>\n",
       "    </tr>\n",
       "    <tr>\n",
       "      <th>144</th>\n",
       "      <td>300</td>\n",
       "      <td>10.000000</td>\n",
       "      <td>1000000000</td>\n",
       "      <td>-640.276501</td>\n",
       "      <td>-21.911392</td>\n",
       "    </tr>\n",
       "    <tr>\n",
       "      <th>145</th>\n",
       "      <td>300</td>\n",
       "      <td>17.782794</td>\n",
       "      <td>1000000000</td>\n",
       "      <td>-642.626381</td>\n",
       "      <td>-12.532986</td>\n",
       "    </tr>\n",
       "    <tr>\n",
       "      <th>146</th>\n",
       "      <td>300</td>\n",
       "      <td>31.622777</td>\n",
       "      <td>1000000000</td>\n",
       "      <td>-643.386666</td>\n",
       "      <td>-7.086272</td>\n",
       "    </tr>\n",
       "    <tr>\n",
       "      <th>147</th>\n",
       "      <td>300</td>\n",
       "      <td>56.234133</td>\n",
       "      <td>1000000000</td>\n",
       "      <td>-643.628851</td>\n",
       "      <td>-3.991793</td>\n",
       "    </tr>\n",
       "    <tr>\n",
       "      <th>148</th>\n",
       "      <td>300</td>\n",
       "      <td>100.000000</td>\n",
       "      <td>1000000000</td>\n",
       "      <td>-643.705615</td>\n",
       "      <td>-2.245978</td>\n",
       "    </tr>\n",
       "    <tr>\n",
       "      <th>149</th>\n",
       "      <td>300</td>\n",
       "      <td>177.827941</td>\n",
       "      <td>1000000000</td>\n",
       "      <td>-643.729907</td>\n",
       "      <td>-1.263225</td>\n",
       "    </tr>\n",
       "    <tr>\n",
       "      <th>150</th>\n",
       "      <td>300</td>\n",
       "      <td>316.227766</td>\n",
       "      <td>1000000000</td>\n",
       "      <td>-643.737591</td>\n",
       "      <td>-0.710402</td>\n",
       "    </tr>\n",
       "    <tr>\n",
       "      <th>151</th>\n",
       "      <td>300</td>\n",
       "      <td>562.341325</td>\n",
       "      <td>1000000000</td>\n",
       "      <td>-643.740021</td>\n",
       "      <td>-0.399496</td>\n",
       "    </tr>\n",
       "    <tr>\n",
       "      <th>152</th>\n",
       "      <td>300</td>\n",
       "      <td>1000.000000</td>\n",
       "      <td>1000000000</td>\n",
       "      <td>-643.740789</td>\n",
       "      <td>-0.224654</td>\n",
       "    </tr>\n",
       "    <tr>\n",
       "      <th>153</th>\n",
       "      <td>300</td>\n",
       "      <td>1778.279410</td>\n",
       "      <td>1000000000</td>\n",
       "      <td>-643.741032</td>\n",
       "      <td>-0.126332</td>\n",
       "    </tr>\n",
       "    <tr>\n",
       "      <th>154</th>\n",
       "      <td>300</td>\n",
       "      <td>3162.277660</td>\n",
       "      <td>1000000000</td>\n",
       "      <td>-643.741109</td>\n",
       "      <td>-0.071042</td>\n",
       "    </tr>\n",
       "    <tr>\n",
       "      <th>155</th>\n",
       "      <td>300</td>\n",
       "      <td>5623.413252</td>\n",
       "      <td>1000000000</td>\n",
       "      <td>-643.741133</td>\n",
       "      <td>-0.039950</td>\n",
       "    </tr>\n",
       "    <tr>\n",
       "      <th>156</th>\n",
       "      <td>300</td>\n",
       "      <td>10000.000000</td>\n",
       "      <td>1000000000</td>\n",
       "      <td>-643.741141</td>\n",
       "      <td>-0.022465</td>\n",
       "    </tr>\n",
       "    <tr>\n",
       "      <th>157</th>\n",
       "      <td>300</td>\n",
       "      <td>17782.794100</td>\n",
       "      <td>1000000000</td>\n",
       "      <td>-643.741144</td>\n",
       "      <td>-0.012633</td>\n",
       "    </tr>\n",
       "    <tr>\n",
       "      <th>158</th>\n",
       "      <td>300</td>\n",
       "      <td>31622.776602</td>\n",
       "      <td>1000000000</td>\n",
       "      <td>-643.741144</td>\n",
       "      <td>-0.007104</td>\n",
       "    </tr>\n",
       "    <tr>\n",
       "      <th>159</th>\n",
       "      <td>300</td>\n",
       "      <td>56234.132519</td>\n",
       "      <td>1000000000</td>\n",
       "      <td>-643.741145</td>\n",
       "      <td>-0.003995</td>\n",
       "    </tr>\n",
       "    <tr>\n",
       "      <th>160</th>\n",
       "      <td>300</td>\n",
       "      <td>100000.000000</td>\n",
       "      <td>1000000000</td>\n",
       "      <td>-643.741145</td>\n",
       "      <td>-0.002247</td>\n",
       "    </tr>\n",
       "    <tr>\n",
       "      <th>161</th>\n",
       "      <td>300</td>\n",
       "      <td>177827.941004</td>\n",
       "      <td>1000000000</td>\n",
       "      <td>-643.741145</td>\n",
       "      <td>-0.001263</td>\n",
       "    </tr>\n",
       "    <tr>\n",
       "      <th>162</th>\n",
       "      <td>300</td>\n",
       "      <td>316227.766017</td>\n",
       "      <td>1000000000</td>\n",
       "      <td>-643.741145</td>\n",
       "      <td>-0.000710</td>\n",
       "    </tr>\n",
       "    <tr>\n",
       "      <th>163</th>\n",
       "      <td>300</td>\n",
       "      <td>562341.325190</td>\n",
       "      <td>1000000000</td>\n",
       "      <td>-643.741145</td>\n",
       "      <td>-0.000399</td>\n",
       "    </tr>\n",
       "    <tr>\n",
       "      <th>164</th>\n",
       "      <td>300</td>\n",
       "      <td>1000000.000000</td>\n",
       "      <td>1000000000</td>\n",
       "      <td>-643.741145</td>\n",
       "      <td>-0.000225</td>\n",
       "    </tr>\n",
       "  </tbody>\n",
       "</table>\n",
       "<p>165 rows × 5 columns</p>\n",
       "</div>"
      ],
      "text/plain": [
       "     tip_curv             cdt        freq    y21_imag   y21_real\n",
       "0         100        0.010000  1000000000 -444.378966  -0.512562\n",
       "1         100        0.017783  1000000000 -444.388003  -0.911345\n",
       "2         100        0.031623  1000000000 -444.416564  -1.619876\n",
       "3         100        0.056234  1000000000 -444.506701  -2.876379\n",
       "4         100        0.100000  1000000000 -444.789942  -5.091465\n",
       "5         100        0.177828  1000000000 -445.668083  -8.924374\n",
       "6         100        0.316228  1000000000 -448.281549 -15.185431\n",
       "7         100        0.562341  1000000000 -455.214359 -23.795406\n",
       "8         100        1.000000  1000000000 -469.230572 -30.930436\n",
       "9         100        1.778279  1000000000 -486.850098 -29.984689\n",
       "10        100        3.162278  1000000000 -499.431471 -21.975129\n",
       "11        100        5.623413  1000000000 -505.202272 -13.683968\n",
       "12        100       10.000000  1000000000 -507.299399  -7.966719\n",
       "13        100       17.782794  1000000000 -507.994349  -4.530676\n",
       "14        100       31.622777  1000000000 -508.217458  -2.556935\n",
       "15        100       56.234133  1000000000 -508.288352  -1.439505\n",
       "16        100      100.000000  1000000000 -508.310805  -0.809784\n",
       "17        100      177.827941  1000000000 -508.317908  -0.455427\n",
       "18        100      316.227766  1000000000 -508.320155  -0.256115\n",
       "19        100      562.341325  1000000000 -508.320866  -0.144025\n",
       "20        100     1000.000000  1000000000 -508.321090  -0.080992\n",
       "21        100     1778.279410  1000000000 -508.321161  -0.045545\n",
       "22        100     3162.277660  1000000000 -508.321184  -0.025612\n",
       "23        100     5623.413252  1000000000 -508.321191  -0.014403\n",
       "24        100    10000.000000  1000000000 -508.321193  -0.008099\n",
       "25        100    17782.794100  1000000000 -508.321194  -0.004555\n",
       "26        100    31622.776602  1000000000 -508.321194  -0.002561\n",
       "27        100    56234.132519  1000000000 -508.321194  -0.001440\n",
       "28        100   100000.000000  1000000000 -508.321194  -0.000810\n",
       "29        100   177827.941004  1000000000 -508.321194  -0.000455\n",
       "..        ...             ...         ...         ...        ...\n",
       "135       300        0.056234  1000000000 -499.593164  -5.330303\n",
       "136       300        0.100000  1000000000 -500.030736  -9.447861\n",
       "137       300        0.177828  1000000000 -501.394250 -16.629931\n",
       "138       300        0.316228  1000000000 -505.515611 -28.657699\n",
       "139       300        0.562341  1000000000 -516.942812 -46.504283\n",
       "140       300        1.000000  1000000000 -542.641059 -65.299650\n",
       "141       300        1.778279  1000000000 -581.488039 -70.744928\n",
       "142       300        3.162278  1000000000 -615.459034 -56.776000\n",
       "143       300        5.623413  1000000000 -633.348614 -36.996349\n",
       "144       300       10.000000  1000000000 -640.276501 -21.911392\n",
       "145       300       17.782794  1000000000 -642.626381 -12.532986\n",
       "146       300       31.622777  1000000000 -643.386666  -7.086272\n",
       "147       300       56.234133  1000000000 -643.628851  -3.991793\n",
       "148       300      100.000000  1000000000 -643.705615  -2.245978\n",
       "149       300      177.827941  1000000000 -643.729907  -1.263225\n",
       "150       300      316.227766  1000000000 -643.737591  -0.710402\n",
       "151       300      562.341325  1000000000 -643.740021  -0.399496\n",
       "152       300     1000.000000  1000000000 -643.740789  -0.224654\n",
       "153       300     1778.279410  1000000000 -643.741032  -0.126332\n",
       "154       300     3162.277660  1000000000 -643.741109  -0.071042\n",
       "155       300     5623.413252  1000000000 -643.741133  -0.039950\n",
       "156       300    10000.000000  1000000000 -643.741141  -0.022465\n",
       "157       300    17782.794100  1000000000 -643.741144  -0.012633\n",
       "158       300    31622.776602  1000000000 -643.741144  -0.007104\n",
       "159       300    56234.132519  1000000000 -643.741145  -0.003995\n",
       "160       300   100000.000000  1000000000 -643.741145  -0.002247\n",
       "161       300   177827.941004  1000000000 -643.741145  -0.001263\n",
       "162       300   316227.766017  1000000000 -643.741145  -0.000710\n",
       "163       300   562341.325190  1000000000 -643.741145  -0.000399\n",
       "164       300  1000000.000000  1000000000 -643.741145  -0.000225\n",
       "\n",
       "[165 rows x 5 columns]"
      ]
     },
     "execution_count": 6,
     "metadata": {},
     "output_type": "execute_result"
    }
   ],
   "source": [
    "data_bar"
   ]
  },
  {
   "cell_type": "code",
   "execution_count": 7,
   "metadata": {
    "collapsed": true,
    "deletable": true,
    "editable": true
   },
   "outputs": [],
   "source": [
    "tip_curv = 300\n",
    "freq = 1e9\n",
    "conditions_foo = conditions_bar = {'tip_curv': tip_curv, 'freq': freq}\n",
    "sub_foo = get_sub_dataframe(data_foo, conditions=conditions_foo)\n",
    "sub_bar = get_sub_dataframe(data_bar, conditions=conditions_bar)"
   ]
  },
  {
   "cell_type": "code",
   "execution_count": 8,
   "metadata": {
    "collapsed": false,
    "deletable": true,
    "editable": true
   },
   "outputs": [
    {
     "data": {
      "text/html": [
       "<div>\n",
       "<table border=\"1\" class=\"dataframe\">\n",
       "  <thead>\n",
       "    <tr style=\"text-align: right;\">\n",
       "      <th></th>\n",
       "      <th>tip_curv</th>\n",
       "      <th>freq</th>\n",
       "      <th>y21_imag</th>\n",
       "      <th>y21_real</th>\n",
       "    </tr>\n",
       "  </thead>\n",
       "  <tbody>\n",
       "    <tr>\n",
       "      <th>4</th>\n",
       "      <td>300</td>\n",
       "      <td>1000000000</td>\n",
       "      <td>-628.883669</td>\n",
       "      <td>-0.000002</td>\n",
       "    </tr>\n",
       "  </tbody>\n",
       "</table>\n",
       "</div>"
      ],
      "text/plain": [
       "   tip_curv        freq    y21_imag  y21_real\n",
       "4       300  1000000000 -628.883669 -0.000002"
      ]
     },
     "execution_count": 8,
     "metadata": {},
     "output_type": "execute_result"
    }
   ],
   "source": [
    "sub_foo.head()"
   ]
  },
  {
   "cell_type": "code",
   "execution_count": 9,
   "metadata": {
    "collapsed": false,
    "deletable": true,
    "editable": true
   },
   "outputs": [
    {
     "data": {
      "text/html": [
       "<div>\n",
       "<table border=\"1\" class=\"dataframe\">\n",
       "  <thead>\n",
       "    <tr style=\"text-align: right;\">\n",
       "      <th></th>\n",
       "      <th>tip_curv</th>\n",
       "      <th>cdt</th>\n",
       "      <th>freq</th>\n",
       "      <th>y21_imag</th>\n",
       "      <th>y21_real</th>\n",
       "    </tr>\n",
       "  </thead>\n",
       "  <tbody>\n",
       "    <tr>\n",
       "      <th>132</th>\n",
       "      <td>300</td>\n",
       "      <td>0.010000</td>\n",
       "      <td>1000000000</td>\n",
       "      <td>-499.396182</td>\n",
       "      <td>-0.949269</td>\n",
       "    </tr>\n",
       "    <tr>\n",
       "      <th>133</th>\n",
       "      <td>300</td>\n",
       "      <td>0.017783</td>\n",
       "      <td>1000000000</td>\n",
       "      <td>-499.410112</td>\n",
       "      <td>-1.687890</td>\n",
       "    </tr>\n",
       "    <tr>\n",
       "      <th>134</th>\n",
       "      <td>300</td>\n",
       "      <td>0.031623</td>\n",
       "      <td>1000000000</td>\n",
       "      <td>-499.454140</td>\n",
       "      <td>-3.000557</td>\n",
       "    </tr>\n",
       "    <tr>\n",
       "      <th>135</th>\n",
       "      <td>300</td>\n",
       "      <td>0.056234</td>\n",
       "      <td>1000000000</td>\n",
       "      <td>-499.593164</td>\n",
       "      <td>-5.330303</td>\n",
       "    </tr>\n",
       "    <tr>\n",
       "      <th>136</th>\n",
       "      <td>300</td>\n",
       "      <td>0.100000</td>\n",
       "      <td>1000000000</td>\n",
       "      <td>-500.030736</td>\n",
       "      <td>-9.447861</td>\n",
       "    </tr>\n",
       "  </tbody>\n",
       "</table>\n",
       "</div>"
      ],
      "text/plain": [
       "     tip_curv       cdt        freq    y21_imag  y21_real\n",
       "132       300  0.010000  1000000000 -499.396182 -0.949269\n",
       "133       300  0.017783  1000000000 -499.410112 -1.687890\n",
       "134       300  0.031623  1000000000 -499.454140 -3.000557\n",
       "135       300  0.056234  1000000000 -499.593164 -5.330303\n",
       "136       300  0.100000  1000000000 -500.030736 -9.447861"
      ]
     },
     "execution_count": 9,
     "metadata": {},
     "output_type": "execute_result"
    }
   ],
   "source": [
    "sub_bar.head()"
   ]
  },
  {
   "cell_type": "code",
   "execution_count": 10,
   "metadata": {
    "collapsed": true,
    "deletable": true,
    "editable": true
   },
   "outputs": [],
   "source": [
    "cdt = sub_bar['cdt'].values"
   ]
  },
  {
   "cell_type": "code",
   "execution_count": 11,
   "metadata": {
    "collapsed": true,
    "deletable": true,
    "editable": true
   },
   "outputs": [],
   "source": [
    "imag = sub_bar['y21_imag'].values - sub_foo['y21_imag'].values[0]\n",
    "real = -1 * sub_bar['y21_real'].values"
   ]
  },
  {
   "cell_type": "code",
   "execution_count": 12,
   "metadata": {
    "collapsed": false,
    "deletable": true,
    "editable": true
   },
   "outputs": [
    {
     "data": {
      "image/png": "[encoded data removed]",
      "text/plain": [
       "<matplotlib.figure.Figure at 0x88a0ef0>"
      ]
     },
     "metadata": {},
     "output_type": "display_data"
    }
   ],
   "source": [
    "%matplotlib inline\n",
    "import matplotlib.pyplot as plt\n",
    "plt.plot(cdt, imag, 'b-', cdt, real, 'r-')         \n",
    "plt.xscale('log')"
   ]
  },
  {
   "cell_type": "code",
   "execution_count": 13,
   "metadata": {
    "collapsed": false,
    "deletable": true,
    "editable": true
   },
   "outputs": [
    {
     "data": {
      "image/png": "[encoded data removed]",
      "text/plain": [
       "<matplotlib.figure.Figure at 0xa837630>"
      ]
     },
     "metadata": {},
     "output_type": "display_data"
    }
   ],
   "source": [
    "ratio = real / imag\n",
    "plt.plot(cdt, ratio, 'b--')\n",
    "plt.xscale('log')"
   ]
  },
  {
   "cell_type": "code",
   "execution_count": 14,
   "metadata": {
    "collapsed": false,
    "deletable": true,
    "editable": true
   },
   "outputs": [],
   "source": [
    "file_path_1 = os.path.join(DATA_PATH, '20171010_sample_bias_dep.csv')\n",
    "domain_data = pandas.read_csv(file_path_1, names=['bias', 'ratio', 'ratio_max', 'ratio_min'])"
   ]
  },
  {
   "cell_type": "code",
   "execution_count": null,
   "metadata": {
    "collapsed": true,
    "deletable": true,
    "editable": true
   },
   "outputs": [],
   "source": []
  },
  {
   "cell_type": "code",
   "execution_count": null,
   "metadata": {
    "collapsed": true,
    "deletable": true,
    "editable": true
   },
   "outputs": [],
   "source": []
  },
  {
   "cell_type": "code",
   "execution_count": 15,
   "metadata": {
    "collapsed": false,
    "deletable": true,
    "editable": true
   },
   "outputs": [],
   "source": [
    "from common.data_analysis import *"
   ]
  },
  {
   "cell_type": "code",
   "execution_count": 16,
   "metadata": {
    "collapsed": false,
    "deletable": true,
    "editable": true
   },
   "outputs": [
    {
     "data": {
      "image/png": "[encoded data removed]",
      "text/plain": [
       "<matplotlib.figure.Figure at 0xbc9f710>"
      ]
     },
     "metadata": {},
     "output_type": "display_data"
    }
   ],
   "source": [
    "domain_data['cdt'] = [from_y_to_x(cdt, ratio, y, 0.1) for y in domain_data['ratio']]\n",
    "domain_data['cdt_max'] = [from_y_to_x(cdt, ratio, y, 0.1) for y in domain_data['ratio_max']]\n",
    "domain_data['cdt_min'] = [from_y_to_x(cdt, ratio, y, 0.1) for y in domain_data['ratio_min']]\n",
    "plt.plot(domain_data['bias'].values, domain_data['cdt'].values, 'r-', domain_data['bias'].values, domain_data['cdt_max'].values, 'b--', \n",
    "         domain_data['bias'].values, domain_data['cdt_min'].values, 'b--',)\n",
    "plt.yscale('log')"
   ]
  },
  {
   "cell_type": "code",
   "execution_count": 17,
   "metadata": {
    "collapsed": false,
    "deletable": true,
    "editable": true
   },
   "outputs": [
    {
     "data": {
      "text/plain": [
       "(-2.25, 2.25)"
      ]
     },
     "execution_count": 17,
     "metadata": {},
     "output_type": "execute_result"
    },
    {
     "data": {
      "image/png": "[encoded data removed]",
      "text/plain": [
       "<matplotlib.figure.Figure at 0xbc75668>"
      ]
     },
     "metadata": {},
     "output_type": "display_data"
    }
   ],
   "source": [
    "plt.style.use('classic')\n",
    "plt.errorbar(domain_data['bias'].values, domain_data['cdt'].values, yerr=[domain_data['cdt_min'].values, domain_data['cdt_max'].values], fmt='--o')\n",
    "plt.yscale('log')\n",
    "plt.ylim(0.01, 3)\n",
    "plt.xlim(-2.25, 2.25)"
   ]
  },
  {
   "cell_type": "code",
   "execution_count": 18,
   "metadata": {
    "collapsed": false,
    "deletable": true,
    "editable": true
   },
   "outputs": [
    {
     "data": {
      "text/html": [
       "<div>\n",
       "<table border=\"1\" class=\"dataframe\">\n",
       "  <thead>\n",
       "    <tr style=\"text-align: right;\">\n",
       "      <th></th>\n",
       "      <th>bias</th>\n",
       "      <th>ratio</th>\n",
       "      <th>ratio_max</th>\n",
       "      <th>ratio_min</th>\n",
       "      <th>cdt</th>\n",
       "      <th>cdt_max</th>\n",
       "      <th>cdt_min</th>\n",
       "    </tr>\n",
       "  </thead>\n",
       "  <tbody>\n",
       "    <tr>\n",
       "      <th>0</th>\n",
       "      <td>0</td>\n",
       "      <td>0.31954</td>\n",
       "      <td>0.37139</td>\n",
       "      <td>0.26769</td>\n",
       "      <td>0.435427</td>\n",
       "      <td>0.504964</td>\n",
       "      <td>0.364658</td>\n",
       "    </tr>\n",
       "    <tr>\n",
       "      <th>1</th>\n",
       "      <td>1</td>\n",
       "      <td>0.07864</td>\n",
       "      <td>0.09271</td>\n",
       "      <td>0.06457</td>\n",
       "      <td>0.107251</td>\n",
       "      <td>0.126438</td>\n",
       "      <td>0.088064</td>\n",
       "    </tr>\n",
       "    <tr>\n",
       "      <th>2</th>\n",
       "      <td>2</td>\n",
       "      <td>0.06752</td>\n",
       "      <td>0.08021</td>\n",
       "      <td>0.05482</td>\n",
       "      <td>0.092087</td>\n",
       "      <td>0.109392</td>\n",
       "      <td>0.074770</td>\n",
       "    </tr>\n",
       "    <tr>\n",
       "      <th>3</th>\n",
       "      <td>1</td>\n",
       "      <td>0.06431</td>\n",
       "      <td>0.07548</td>\n",
       "      <td>0.05315</td>\n",
       "      <td>0.087710</td>\n",
       "      <td>0.102942</td>\n",
       "      <td>0.072493</td>\n",
       "    </tr>\n",
       "    <tr>\n",
       "      <th>4</th>\n",
       "      <td>0</td>\n",
       "      <td>0.10573</td>\n",
       "      <td>0.12566</td>\n",
       "      <td>0.08581</td>\n",
       "      <td>0.144186</td>\n",
       "      <td>0.171325</td>\n",
       "      <td>0.117029</td>\n",
       "    </tr>\n",
       "    <tr>\n",
       "      <th>5</th>\n",
       "      <td>-1</td>\n",
       "      <td>0.29210</td>\n",
       "      <td>0.34528</td>\n",
       "      <td>0.23892</td>\n",
       "      <td>0.398058</td>\n",
       "      <td>0.470167</td>\n",
       "      <td>0.325279</td>\n",
       "    </tr>\n",
       "    <tr>\n",
       "      <th>6</th>\n",
       "      <td>-2</td>\n",
       "      <td>0.42768</td>\n",
       "      <td>0.49346</td>\n",
       "      <td>0.36190</td>\n",
       "      <td>0.577952</td>\n",
       "      <td>0.659937</td>\n",
       "      <td>0.492376</td>\n",
       "    </tr>\n",
       "    <tr>\n",
       "      <th>7</th>\n",
       "      <td>-1</td>\n",
       "      <td>0.46231</td>\n",
       "      <td>0.52971</td>\n",
       "      <td>0.39491</td>\n",
       "      <td>0.621428</td>\n",
       "      <td>0.704388</td>\n",
       "      <td>0.535831</td>\n",
       "    </tr>\n",
       "    <tr>\n",
       "      <th>8</th>\n",
       "      <td>0</td>\n",
       "      <td>0.40217</td>\n",
       "      <td>0.45625</td>\n",
       "      <td>0.34810</td>\n",
       "      <td>0.545256</td>\n",
       "      <td>0.613880</td>\n",
       "      <td>0.473949</td>\n",
       "    </tr>\n",
       "  </tbody>\n",
       "</table>\n",
       "</div>"
      ],
      "text/plain": [
       "   bias    ratio  ratio_max  ratio_min       cdt   cdt_max   cdt_min\n",
       "0     0  0.31954    0.37139    0.26769  0.435427  0.504964  0.364658\n",
       "1     1  0.07864    0.09271    0.06457  0.107251  0.126438  0.088064\n",
       "2     2  0.06752    0.08021    0.05482  0.092087  0.109392  0.074770\n",
       "3     1  0.06431    0.07548    0.05315  0.087710  0.102942  0.072493\n",
       "4     0  0.10573    0.12566    0.08581  0.144186  0.171325  0.117029\n",
       "5    -1  0.29210    0.34528    0.23892  0.398058  0.470167  0.325279\n",
       "6    -2  0.42768    0.49346    0.36190  0.577952  0.659937  0.492376\n",
       "7    -1  0.46231    0.52971    0.39491  0.621428  0.704388  0.535831\n",
       "8     0  0.40217    0.45625    0.34810  0.545256  0.613880  0.473949"
      ]
     },
     "execution_count": 18,
     "metadata": {},
     "output_type": "execute_result"
    }
   ],
   "source": [
    "domain_data"
   ]
  },
  {
   "cell_type": "code",
   "execution_count": 19,
   "metadata": {
    "collapsed": false,
    "deletable": true,
    "editable": true
   },
   "outputs": [],
   "source": [
    "dw_cdt_simulated = numpy.array([355, 285, 268, 108, 57])\n",
    "bias_data = numpy.array([2, 1, 0, -1, -2])"
   ]
  },
  {
   "cell_type": "code",
   "execution_count": 20,
   "metadata": {
    "collapsed": false,
    "deletable": true,
    "editable": true
   },
   "outputs": [
    {
     "data": {
      "text/plain": [
       "[<matplotlib.lines.Line2D at 0xb9f1f28>]"
      ]
     },
     "execution_count": 20,
     "metadata": {},
     "output_type": "execute_result"
    },
    {
     "data": {
      "image/png": "[encoded data removed]",
      "text/plain": [
       "<matplotlib.figure.Figure at 0xa972c88>"
      ]
     },
     "metadata": {},
     "output_type": "display_data"
    }
   ],
   "source": [
    "plt.errorbar(domain_data['bias'].values, domain_data['cdt'].values, yerr=[domain_data['cdt_min'].values, domain_data['cdt_max'].values], fmt='--o')\n",
    "plt.yscale('log')\n",
    "plt.plot(bias_data, dw_cdt_simulated, 'ro')"
   ]
  },
  {
   "cell_type": "markdown",
   "metadata": {
    "collapsed": true,
    "deletable": true,
    "editable": true
   },
   "source": [
    "# Conductivity for two different domains"
   ]
  },
  {
   "cell_type": "code",
   "execution_count": 21,
   "metadata": {
    "collapsed": false,
    "deletable": true,
    "editable": true
   },
   "outputs": [],
   "source": [
    "file_path_2 = os.path.join(DATA_PATH, '20171019_d1d2_bias_dep.csv')\n",
    "domain_data2 = pandas.read_csv(file_path_2, names=['bias', 'ratio_d1', 'ratio_d2'])\n",
    "domain_data2['cdt_d1'] = [from_y_to_x(cdt, ratio, y, 0.1) for y in domain_data2['ratio_d1']]\n",
    "domain_data2['cdt_d2'] = [from_y_to_x(cdt, ratio, y, 0.1) for y in domain_data2['ratio_d2']]"
   ]
  },
  {
   "cell_type": "code",
   "execution_count": 22,
   "metadata": {
    "collapsed": false,
    "deletable": true,
    "editable": true
   },
   "outputs": [
    {
     "data": {
      "text/plain": [
       "(0.07, 0.6)"
      ]
     },
     "execution_count": 22,
     "metadata": {},
     "output_type": "execute_result"
    },
    {
     "data": {
      "image/png": "[encoded data removed]",
      "text/plain": [
       "<matplotlib.figure.Figure at 0xaa592e8>"
      ]
     },
     "metadata": {},
     "output_type": "display_data"
    }
   ],
   "source": [
    "plt.plot(domain_data2['bias'].values, domain_data2['cdt_d1'].values, 'r-o')\n",
    "plt.plot(domain_data2['bias'].values, domain_data2['cdt_d2'].values, 'b-s')\n",
    "plt.yscale('log')\n",
    "plt.ylim([0.07, 0.6])"
   ]
  },
  {
   "cell_type": "code",
   "execution_count": 23,
   "metadata": {
    "collapsed": false,
    "deletable": true,
    "editable": true
   },
   "outputs": [
    {
     "data": {
      "text/html": [
       "<div>\n",
       "<table border=\"1\" class=\"dataframe\">\n",
       "  <thead>\n",
       "    <tr style=\"text-align: right;\">\n",
       "      <th></th>\n",
       "      <th>bias</th>\n",
       "      <th>ratio_d1</th>\n",
       "      <th>ratio_d2</th>\n",
       "      <th>cdt_d1</th>\n",
       "      <th>cdt_d2</th>\n",
       "    </tr>\n",
       "  </thead>\n",
       "  <tbody>\n",
       "    <tr>\n",
       "      <th>0</th>\n",
       "      <td>2</td>\n",
       "      <td>0.06753</td>\n",
       "      <td>0.06750</td>\n",
       "      <td>0.092101</td>\n",
       "      <td>0.092060</td>\n",
       "    </tr>\n",
       "    <tr>\n",
       "      <th>1</th>\n",
       "      <td>1</td>\n",
       "      <td>0.06409</td>\n",
       "      <td>0.06453</td>\n",
       "      <td>0.087410</td>\n",
       "      <td>0.088010</td>\n",
       "    </tr>\n",
       "    <tr>\n",
       "      <th>2</th>\n",
       "      <td>0</td>\n",
       "      <td>0.10536</td>\n",
       "      <td>0.10610</td>\n",
       "      <td>0.143682</td>\n",
       "      <td>0.144691</td>\n",
       "    </tr>\n",
       "    <tr>\n",
       "      <th>3</th>\n",
       "      <td>-1</td>\n",
       "      <td>0.28649</td>\n",
       "      <td>0.29778</td>\n",
       "      <td>0.390390</td>\n",
       "      <td>0.405814</td>\n",
       "    </tr>\n",
       "    <tr>\n",
       "      <th>4</th>\n",
       "      <td>-2</td>\n",
       "      <td>0.41413</td>\n",
       "      <td>0.44146</td>\n",
       "      <td>0.560667</td>\n",
       "      <td>0.595359</td>\n",
       "    </tr>\n",
       "  </tbody>\n",
       "</table>\n",
       "</div>"
      ],
      "text/plain": [
       "   bias  ratio_d1  ratio_d2    cdt_d1    cdt_d2\n",
       "0     2   0.06753   0.06750  0.092101  0.092060\n",
       "1     1   0.06409   0.06453  0.087410  0.088010\n",
       "2     0   0.10536   0.10610  0.143682  0.144691\n",
       "3    -1   0.28649   0.29778  0.390390  0.405814\n",
       "4    -2   0.41413   0.44146  0.560667  0.595359"
      ]
     },
     "execution_count": 23,
     "metadata": {},
     "output_type": "execute_result"
    }
   ],
   "source": [
    "domain_data2"
   ]
  },
  {
   "cell_type": "code",
   "execution_count": null,
   "metadata": {
    "collapsed": true,
    "deletable": true,
    "editable": true
   },
   "outputs": [],
   "source": []
  }
 ],
 "metadata": {
  "kernelspec": {
   "display_name": "Python 2",
   "language": "python",
   "name": "python2"
  },
  "language_info": {
   "codemirror_mode": {
    "name": "ipython",
    "version": 2
   },
   "file_extension": ".py",
   "mimetype": "text/x-python",
   "name": "python",
   "nbconvert_exporter": "python",
   "pygments_lexer": "ipython2",
   "version": "2.7.13"
  }
 },
 "nbformat": 4,
 "nbformat_minor": 2
}
