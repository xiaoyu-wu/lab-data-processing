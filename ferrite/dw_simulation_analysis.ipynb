{
 "cells": [
  {
   "cell_type": "code",
   "execution_count": 1,
   "metadata": {
    "collapsed": true,
    "deletable": true,
    "editable": true
   },
   "outputs": [],
   "source": [
    "import os\n",
    "import sys\n",
    "module_path = os.path.abspath(os.path.join('..'))\n",
    "\n",
    "if module_path not in sys.path:\n",
    "    sys.path.append(module_path)\n",
    "    \n",
    "from common.read_COMSOL_data import *"
   ]
  },
  {
   "cell_type": "code",
   "execution_count": 2,
   "metadata": {
    "collapsed": false,
    "deletable": true,
    "editable": true
   },
   "outputs": [],
   "source": [
    "CURR_PATH = os.getcwd()\n",
    "DATA_PATH = os.path.join(CURR_PATH, 'data')\n",
    "FILE_NAME = \"20171013_lfo_dw_result.csv\"\n",
    "FILE_PATH = os.path.join(DATA_PATH, FILE_NAME)\n",
    "sim_data = read_COMSOL_csv(FILE_PATH, name_list=['domain_cdt', 'dw_cdt', 'y21_imag', 'y21_real'])"
   ]
  },
  {
   "cell_type": "code",
   "execution_count": 3,
   "metadata": {
    "collapsed": false,
    "deletable": true,
    "editable": true
   },
   "outputs": [
    {
     "data": {
      "text/html": [
       "<div>\n",
       "<table border=\"1\" class=\"dataframe\">\n",
       "  <thead>\n",
       "    <tr style=\"text-align: right;\">\n",
       "      <th></th>\n",
       "      <th>domain_cdt</th>\n",
       "      <th>dw_cdt</th>\n",
       "      <th>y21_imag</th>\n",
       "      <th>y21_real</th>\n",
       "    </tr>\n",
       "  </thead>\n",
       "  <tbody>\n",
       "    <tr>\n",
       "      <th>0</th>\n",
       "      <td>0.092087</td>\n",
       "      <td>0.010000</td>\n",
       "      <td>-493.395098</td>\n",
       "      <td>-8.423507</td>\n",
       "    </tr>\n",
       "    <tr>\n",
       "      <th>1</th>\n",
       "      <td>0.092087</td>\n",
       "      <td>0.017783</td>\n",
       "      <td>-493.395668</td>\n",
       "      <td>-8.429803</td>\n",
       "    </tr>\n",
       "    <tr>\n",
       "      <th>2</th>\n",
       "      <td>0.092087</td>\n",
       "      <td>0.031623</td>\n",
       "      <td>-493.396695</td>\n",
       "      <td>-8.440997</td>\n",
       "    </tr>\n",
       "    <tr>\n",
       "      <th>3</th>\n",
       "      <td>0.092087</td>\n",
       "      <td>0.056234</td>\n",
       "      <td>-493.398557</td>\n",
       "      <td>-8.460899</td>\n",
       "    </tr>\n",
       "    <tr>\n",
       "      <th>4</th>\n",
       "      <td>0.092087</td>\n",
       "      <td>0.100000</td>\n",
       "      <td>-493.401982</td>\n",
       "      <td>-8.496272</td>\n",
       "    </tr>\n",
       "  </tbody>\n",
       "</table>\n",
       "</div>"
      ],
      "text/plain": [
       "   domain_cdt    dw_cdt    y21_imag  y21_real\n",
       "0    0.092087  0.010000 -493.395098 -8.423507\n",
       "1    0.092087  0.017783 -493.395668 -8.429803\n",
       "2    0.092087  0.031623 -493.396695 -8.440997\n",
       "3    0.092087  0.056234 -493.398557 -8.460899\n",
       "4    0.092087  0.100000 -493.401982 -8.496272"
      ]
     },
     "execution_count": 3,
     "metadata": {},
     "output_type": "execute_result"
    }
   ],
   "source": [
    "sim_data.head()"
   ]
  },
  {
   "cell_type": "code",
   "execution_count": 4,
   "metadata": {
    "collapsed": false,
    "deletable": true,
    "editable": true
   },
   "outputs": [
    {
     "data": {
      "text/plain": [
       "0.398058    25\n",
       "0.577952    25\n",
       "0.087710    25\n",
       "0.092087    25\n",
       "0.144186    25\n",
       "Name: domain_cdt, dtype: int64"
      ]
     },
     "execution_count": 4,
     "metadata": {},
     "output_type": "execute_result"
    }
   ],
   "source": [
    "sim_data['domain_cdt'].value_counts()"
   ]
  },
  {
   "cell_type": "code",
   "execution_count": 5,
   "metadata": {
    "collapsed": false,
    "deletable": true,
    "editable": true
   },
   "outputs": [],
   "source": [
    "domain_cdt_list = sorted(list(sim_data['domain_cdt'].value_counts().index))\n",
    "conditions = {'domain_cdt': 0}"
   ]
  },
  {
   "cell_type": "code",
   "execution_count": 6,
   "metadata": {
    "collapsed": false,
    "deletable": true,
    "editable": true
   },
   "outputs": [],
   "source": [
    "import pandas as pd\n",
    "# 0: domain_cdt_list, 1: y21_imag, 2: y21_real, 3: dw_cdt, 4: ratio\n",
    "result = [domain_cdt_list, [], [], [], []]"
   ]
  },
  {
   "cell_type": "code",
   "execution_count": 7,
   "metadata": {
    "collapsed": false,
    "deletable": true,
    "editable": true
   },
   "outputs": [
    {
     "name": "stderr",
     "output_type": "stream",
     "text": [
      "C:\\Users\\Wu\\.edm\\envs\\lab-data\\lib\\site-packages\\ipykernel\\__main__.py:11: RuntimeWarning: invalid value encountered in divide\n"
     ]
    }
   ],
   "source": [
    "import matplotlib.pyplot as plt\n",
    "%matplotlib inline\n",
    "for i in range(len(domain_cdt_list)):\n",
    "    conditions['domain_cdt'] = domain_cdt_list[i]\n",
    "    sim_data_section = get_sub_dataframe(sim_data, conditions)\n",
    "    y21_imag = -1 * (sim_data_section['y21_imag'].values - sim_data_section['y21_imag'].values[0])\n",
    "    y21_real = -1 * (sim_data_section['y21_real'].values - sim_data_section['y21_real'].values[0])\n",
    "    result[1].append(y21_imag)\n",
    "    result[2].append(y21_real)\n",
    "    result[3].append(sim_data_section['dw_cdt'].values)\n",
    "    result[4].append(y21_real / y21_imag)"
   ]
  },
  {
   "cell_type": "code",
   "execution_count": 8,
   "metadata": {
    "collapsed": false,
    "deletable": true,
    "editable": true
   },
   "outputs": [
    {
     "data": {
      "image/png": "[encoded data removed]",
      "text/plain": [
       "<matplotlib.figure.Figure at 0x8819e10>"
      ]
     },
     "metadata": {},
     "output_type": "display_data"
    }
   ],
   "source": [
    "for i in range(len(domain_cdt_list)):\n",
    "    plt.plot(result[3][i], result[1][i], 'b-', result[3][i], result[2][i], 'r-')\n",
    "plt.xscale('log')"
   ]
  },
  {
   "cell_type": "code",
   "execution_count": 9,
   "metadata": {
    "collapsed": false,
    "deletable": true,
    "editable": true
   },
   "outputs": [
    {
     "data": {
      "text/plain": [
       "(0, 1.5)"
      ]
     },
     "execution_count": 9,
     "metadata": {},
     "output_type": "execute_result"
    },
    {
     "data": {
      "image/png": "[encoded data removed]",
      "text/plain": [
       "<matplotlib.figure.Figure at 0x8819cf8>"
      ]
     },
     "metadata": {},
     "output_type": "display_data"
    }
   ],
   "source": [
    "for i in range(len(domain_cdt_list)):\n",
    "    plt.plot(result[3][i], result[4][i], 'g-')\n",
    "plt.xscale('log')\n",
    "plt.ylim(0, 1.5)"
   ]
  },
  {
   "cell_type": "code",
   "execution_count": 10,
   "metadata": {
    "collapsed": false,
    "deletable": true,
    "editable": true
   },
   "outputs": [
    {
     "name": "stdout",
     "output_type": "stream",
     "text": [
      "355.517430009\n",
      "285.112970463\n",
      "268.634548795\n",
      "108.196764814\n",
      "57.9003148352\n"
     ]
    }
   ],
   "source": [
    "dw_signal_ratio = [0.345, 0.412, 0.396, 0.487, 0.502]\n",
    "dw_signal_ratio2 = [0.295, 0.395, 0.398, 0.579, 0.734]\n",
    "from common.data_analysis import *\n",
    "for i in range(len(domain_cdt_list)):\n",
    "    print from_y_to_x(result[3][i][1:], result[4][i][1:], dw_signal_ratio[i], 10)"
   ]
  },
  {
   "cell_type": "code",
   "execution_count": 14,
   "metadata": {
    "collapsed": false
   },
   "outputs": [
    {
     "name": "stdout",
     "output_type": "stream",
     "text": [
      "422.095343384\n",
      "300.428868686\n",
      "266.959666176\n",
      "80.096135065\n",
      "24.4360803871\n"
     ]
    }
   ],
   "source": [
    "from common.data_analysis import *\n",
    "for i in range(len(domain_cdt_list)):\n",
    "    print from_y_to_x(result[3][i][1:], result[4][i][1:], dw_signal_ratio2[i], 10)"
   ]
  },
  {
   "cell_type": "code",
   "execution_count": 12,
   "metadata": {
    "collapsed": false
   },
   "outputs": [
    {
     "data": {
      "text/plain": [
       "2.5511455965171472"
      ]
     },
     "execution_count": 12,
     "metadata": {},
     "output_type": "execute_result"
    }
   ],
   "source": [
    "from_y_to_x(numpy.log10(result[3][0])[1:], result[4][0][1:], dw_signal_ratio[0], 1)"
   ]
  },
  {
   "cell_type": "code",
   "execution_count": null,
   "metadata": {
    "collapsed": true
   },
   "outputs": [],
   "source": []
  }
 ],
 "metadata": {
  "kernelspec": {
   "display_name": "Python 2",
   "language": "python",
   "name": "python2"
  },
  "language_info": {
   "codemirror_mode": {
    "name": "ipython",
    "version": 2
   },
   "file_extension": ".py",
   "mimetype": "text/x-python",
   "name": "python",
   "nbconvert_exporter": "python",
   "pygments_lexer": "ipython2",
   "version": "2.7.13"
  }
 },
 "nbformat": 4,
 "nbformat_minor": 2
}
