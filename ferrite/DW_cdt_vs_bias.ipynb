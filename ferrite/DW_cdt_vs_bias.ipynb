{
 "cells": [
  {
   "cell_type": "code",
   "execution_count": 1,
   "metadata": {
    "collapsed": true,
    "deletable": true,
    "editable": true
   },
   "outputs": [],
   "source": [
    "import os\n",
    "import sys\n",
    "module_path = os.path.abspath(os.path.join('..'))\n",
    "\n",
    "if module_path not in sys.path:\n",
    "    sys.path.append(module_path)\n",
    "    \n",
    "from common.read_COMSOL_data import *"
   ]
  },
  {
   "cell_type": "code",
   "execution_count": 2,
   "metadata": {
    "collapsed": true,
    "deletable": true,
    "editable": true
   },
   "outputs": [],
   "source": [
    "CURR_PATH = os.getcwd()\n",
    "DATA_PATH = os.path.join(CURR_PATH, 'data')"
   ]
  },
  {
   "cell_type": "markdown",
   "metadata": {
    "deletable": true,
    "editable": true
   },
   "source": [
    "# DW Simulation data"
   ]
  },
  {
   "cell_type": "code",
   "execution_count": 3,
   "metadata": {
    "collapsed": false,
    "deletable": true,
    "editable": true
   },
   "outputs": [],
   "source": [
    "some_bias = -2\n",
    "some_file_name = \"20171022_lfo_dw_{}V_sim_data_3d_real.csv\".format(some_bias)\n",
    "some_file_path = os.path.join(DATA_PATH, some_file_name)\n",
    "some_data = read_COMSOL_csv(some_file_path, name_list=['cdt', 'y21_imag', 'y21_real'])"
   ]
  },
  {
   "cell_type": "markdown",
   "metadata": {
    "deletable": true,
    "editable": true
   },
   "source": [
    "# Domain Simulation data"
   ]
  },
  {
   "cell_type": "code",
   "execution_count": 4,
   "metadata": {
    "collapsed": false,
    "deletable": true,
    "editable": true
   },
   "outputs": [],
   "source": [
    "single_domain_file_path = os.path.join(DATA_PATH, '20171022_lfo_sim_data_3d.csv')\n",
    "single_domain_data = read_COMSOL_csv(single_domain_file_path, name_list=['tip_curv', 'cdt', 'freq', 'y21_imag', 'y21_real'])\n",
    "tip_curv = 300\n",
    "freq = 1e9\n",
    "conditions= {'tip_curv': tip_curv, 'freq': freq}\n",
    "single_domain_data_selected = get_sub_dataframe(single_domain_data, conditions=conditions)"
   ]
  },
  {
   "cell_type": "code",
   "execution_count": 5,
   "metadata": {
    "collapsed": false,
    "deletable": true,
    "editable": true
   },
   "outputs": [
    {
     "data": {
      "image/png": "[encoded data removed]",
      "text/plain": [
       "<matplotlib.figure.Figure at 0x87e02b0>"
      ]
     },
     "metadata": {},
     "output_type": "display_data"
    }
   ],
   "source": [
    "cdt_sd = single_domain_data_selected['cdt'].values\n",
    "imag_sd = -1 * single_domain_data_selected['y21_imag'].values\n",
    "real_sd = -1 * single_domain_data_selected['y21_real'].values\n",
    "\n",
    "%matplotlib inline\n",
    "import matplotlib.pyplot as plt\n",
    "plt.plot(cdt_sd, imag_sd, 'b-', cdt_sd, real_sd, 'r-')\n",
    "plt.xscale('log')"
   ]
  },
  {
   "cell_type": "code",
   "execution_count": 6,
   "metadata": {
    "collapsed": false,
    "deletable": true,
    "editable": true
   },
   "outputs": [
    {
     "data": {
      "image/png": "[encoded data removed]",
      "text/plain": [
       "<matplotlib.figure.Figure at 0xace2c88>"
      ]
     },
     "metadata": {},
     "output_type": "display_data"
    }
   ],
   "source": [
    "from scipy.interpolate import InterpolatedUnivariateSpline\n",
    "curve_imag_sd = InterpolatedUnivariateSpline(cdt_sd, imag_sd)\n",
    "curve_real_sd = InterpolatedUnivariateSpline(cdt_sd, real_sd)\n",
    "xs = numpy.logspace(-2, 2, 100)\n",
    "\n",
    "plt.subplot(2, 1, 1)\n",
    "plt.plot(xs, curve_imag_sd(xs), 'b--')\n",
    "plt.plot(cdt_sd, imag_sd, 'bs')\n",
    "plt.xscale('log')\n",
    "\n",
    "plt.subplot(2, 1, 2)\n",
    "plt.plot(xs, curve_real_sd(xs), 'r--')\n",
    "plt.plot(cdt_sd, real_sd, 'rs')\n",
    "plt.xscale('log')"
   ]
  },
  {
   "cell_type": "markdown",
   "metadata": {
    "deletable": true,
    "editable": true
   },
   "source": [
    "# D1 D2 cdt result"
   ]
  },
  {
   "cell_type": "code",
   "execution_count": 7,
   "metadata": {
    "collapsed": false,
    "deletable": true,
    "editable": true
   },
   "outputs": [],
   "source": [
    "d1d2_file_path = os.path.join(DATA_PATH, '20171022_d1d2_cdt_vs_bias_result_real.csv')\n",
    "import pandas as pd\n",
    "d1d2_data = pd.read_csv(d1d2_file_path)\n",
    "d1d2_data = d1d2_data.set_index('bias')"
   ]
  },
  {
   "cell_type": "code",
   "execution_count": 8,
   "metadata": {
    "collapsed": false,
    "deletable": true,
    "editable": true
   },
   "outputs": [],
   "source": [
    "some_cdt1 = d1d2_data.loc[some_bias, 'cdt1']\n",
    "some_cdt2 = d1d2_data.loc[some_bias, 'cdt2']"
   ]
  },
  {
   "cell_type": "code",
   "execution_count": 9,
   "metadata": {
    "collapsed": false,
    "deletable": true,
    "editable": true
   },
   "outputs": [],
   "source": [
    "some_d1_real = curve_real_sd(some_cdt1)\n",
    "some_d2_real = curve_real_sd(some_cdt2)"
   ]
  },
  {
   "cell_type": "code",
   "execution_count": 10,
   "metadata": {
    "collapsed": false,
    "deletable": true,
    "editable": true
   },
   "outputs": [],
   "source": [
    "cdt = some_data['cdt'].values\n",
    "diff_dw_d1_real = -1 * some_data['y21_real'].values - some_d1_real\n",
    "diff_dw_d2_real = -1 * some_data['y21_real'].values - some_d2_real"
   ]
  },
  {
   "cell_type": "code",
   "execution_count": 11,
   "metadata": {
    "collapsed": false,
    "deletable": true,
    "editable": true
   },
   "outputs": [
    {
     "data": {
      "image/png": "[encoded data removed]",
      "text/plain": [
       "<matplotlib.figure.Figure at 0x501f0b8>"
      ]
     },
     "metadata": {},
     "output_type": "display_data"
    }
   ],
   "source": [
    "plt.plot(cdt, diff_dw_d1_real, 'r-')\n",
    "plt.plot(cdt, diff_dw_d2_real, 'r--')\n",
    "plt.xscale('log')"
   ]
  },
  {
   "cell_type": "markdown",
   "metadata": {
    "collapsed": true,
    "deletable": true,
    "editable": true
   },
   "source": [
    "# Experiment data"
   ]
  },
  {
   "cell_type": "code",
   "execution_count": 12,
   "metadata": {
    "collapsed": false,
    "deletable": true,
    "editable": true
   },
   "outputs": [],
   "source": [
    "exp_data_path = os.path.join(DATA_PATH, '20171022_dw_real.csv')\n",
    "exp_data = pd.read_csv(exp_data_path, names = ['bias', 'dw', 'd1', 'd2', 'dw-d1', 'dw-d2'])\n"
   ]
  },
  {
   "cell_type": "code",
   "execution_count": 13,
   "metadata": {
    "collapsed": false,
    "deletable": true,
    "editable": true
   },
   "outputs": [],
   "source": [
    "exp_data = exp_data.set_index('bias')"
   ]
  },
  {
   "cell_type": "code",
   "execution_count": 14,
   "metadata": {
    "collapsed": true,
    "deletable": true,
    "editable": true
   },
   "outputs": [],
   "source": [
    "exp_1 = exp_data.loc[some_bias, 'dw-d1']\n",
    "exp_2 = exp_data.loc[some_bias, 'dw-d2']"
   ]
  },
  {
   "cell_type": "code",
   "execution_count": 15,
   "metadata": {
    "collapsed": false,
    "deletable": true,
    "editable": true
   },
   "outputs": [
    {
     "data": {
      "text/plain": [
       "(12.82, 2.0499999999999998)"
      ]
     },
     "execution_count": 15,
     "metadata": {},
     "output_type": "execute_result"
    }
   ],
   "source": [
    "exp_1, exp_2"
   ]
  },
  {
   "cell_type": "code",
   "execution_count": 16,
   "metadata": {
    "collapsed": true,
    "deletable": true,
    "editable": true
   },
   "outputs": [],
   "source": [
    "delta_1 = exp_1 / 4.4\n",
    "delta_2 = exp_2 / 4.4"
   ]
  },
  {
   "cell_type": "code",
   "execution_count": 17,
   "metadata": {
    "collapsed": false,
    "deletable": true,
    "editable": true
   },
   "outputs": [],
   "source": [
    "from common.data_analysis import from_y_to_x\n",
    "dw_cdt_1 = from_y_to_x(cdt, diff_dw_d1_real, delta_1, 500)\n",
    "dw_cdt_2 = from_y_to_x(cdt, diff_dw_d2_real, delta_2, 500)"
   ]
  },
  {
   "cell_type": "code",
   "execution_count": 18,
   "metadata": {
    "collapsed": false,
    "deletable": true,
    "editable": true
   },
   "outputs": [
    {
     "data": {
      "text/plain": [
       "(402.549151897797, 417.29370289336151)"
      ]
     },
     "execution_count": 18,
     "metadata": {},
     "output_type": "execute_result"
    }
   ],
   "source": [
    "dw_cdt_1, dw_cdt_2"
   ]
  },
  {
   "cell_type": "code",
   "execution_count": null,
   "metadata": {
    "collapsed": true,
    "deletable": true,
    "editable": true
   },
   "outputs": [],
   "source": []
  }
 ],
 "metadata": {
  "kernelspec": {
   "display_name": "Python 2",
   "language": "python",
   "name": "python2"
  },
  "language_info": {
   "codemirror_mode": {
    "name": "ipython",
    "version": 2
   },
   "file_extension": ".py",
   "mimetype": "text/x-python",
   "name": "python",
   "nbconvert_exporter": "python",
   "pygments_lexer": "ipython2",
   "version": "2.7.13"
  }
 },
 "nbformat": 4,
 "nbformat_minor": 2
}
