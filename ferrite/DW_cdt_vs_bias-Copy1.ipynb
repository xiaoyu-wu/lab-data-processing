{
 "cells": [
  {
   "cell_type": "code",
   "execution_count": 1,
   "metadata": {
    "collapsed": true,
    "deletable": true,
    "editable": true
   },
   "outputs": [],
   "source": [
    "import os\n",
    "import sys\n",
    "module_path = os.path.abspath(os.path.join('..'))\n",
    "\n",
    "if module_path not in sys.path:\n",
    "    sys.path.append(module_path)\n",
    "    \n",
    "from common.read_COMSOL_data import *\n",
    "\n",
    "%matplotlib inline\n",
    "import matplotlib.pyplot as plt"
   ]
  },
  {
   "cell_type": "code",
   "execution_count": 2,
   "metadata": {
    "collapsed": true,
    "deletable": true,
    "editable": true
   },
   "outputs": [],
   "source": [
    "CURR_PATH = os.getcwd()\n",
    "DATA_PATH = os.path.join(CURR_PATH, 'data')"
   ]
  },
  {
   "cell_type": "code",
   "execution_count": 8,
   "metadata": {
    "collapsed": false,
    "deletable": true,
    "editable": true
   },
   "outputs": [
    {
     "data": {
      "text/plain": [
       "(-5, 5)"
      ]
     },
     "execution_count": 8,
     "metadata": {},
     "output_type": "execute_result"
    },
    {
     "data": {
      "image/png": "[encoded data removed]",
      "text/plain": [
       "<matplotlib.figure.Figure at 0xad15470>"
      ]
     },
     "metadata": {},
     "output_type": "display_data"
    }
   ],
   "source": [
    "d1d2_file_path = os.path.join(DATA_PATH, '20171022_d1d2_cdt_vs_bias_result_real.csv')\n",
    "import pandas as pd\n",
    "d1d2_data = pd.read_csv(d1d2_file_path)\n",
    "d1d2_data = d1d2_data.set_index('bias')\n",
    "\n",
    "exp_data_path = os.path.join(DATA_PATH, '20171023_dw6_real.csv')\n",
    "exp_data = pd.read_csv(exp_data_path, names = ['bias', 'dw', 'd1', 'd2', 'dw-d1', 'dw-d2'])\n",
    "exp_data = exp_data.set_index('bias')\n",
    "\n",
    "from common.data_analysis import from_y_to_x\n",
    "\n",
    "dw_cdt_vs_bias = pd.DataFrame()\n",
    "\n",
    "# DW #1 False, #2 True, #3 False, #4 True, #6 True\n",
    "exchange_d1d2 = True\n",
    "\n",
    "for some_bias in [2, 1, 0, -1, -2]:\n",
    "    # DW simulation\n",
    "    some_file_name = \"20171022_lfo_dw_{}V_sim_data_3d_real.csv\".format(some_bias)\n",
    "    some_file_path = os.path.join(DATA_PATH, some_file_name)\n",
    "    some_data = read_COMSOL_csv(some_file_path, name_list=['cdt', 'y21_imag', 'y21_real'])\n",
    "    # Domain simulation\n",
    "    single_domain_file_path = os.path.join(DATA_PATH, '20171022_lfo_sim_data_3d.csv')\n",
    "    single_domain_data = read_COMSOL_csv(single_domain_file_path, name_list=['tip_curv', 'cdt', 'freq', 'y21_imag', 'y21_real'])\n",
    "    tip_curv = 300\n",
    "    freq = 1e9\n",
    "    conditions= {'tip_curv': tip_curv, 'freq': freq}\n",
    "    single_domain_data_selected = get_sub_dataframe(single_domain_data, conditions=conditions)\n",
    "    # Discrete points to curves for domain simulation\n",
    "    cdt_sd = single_domain_data_selected['cdt'].values\n",
    "    imag_sd = -1 * single_domain_data_selected['y21_imag'].values\n",
    "    real_sd = -1 * single_domain_data_selected['y21_real'].values\n",
    "    curve_imag_sd = InterpolatedUnivariateSpline(cdt_sd, imag_sd)\n",
    "    curve_real_sd = InterpolatedUnivariateSpline(cdt_sd, real_sd)\n",
    "    # Assign domain cdts\n",
    "    some_cdt1 = d1d2_data.loc[some_bias, 'cdt1']\n",
    "    some_cdt2 = d1d2_data.loc[some_bias, 'cdt2']\n",
    "    # Get re signal level for domains\n",
    "    some_d1_real = curve_real_sd(some_cdt1)\n",
    "    some_d2_real = curve_real_sd(some_cdt2)\n",
    "    # Get DW - Domain signal level vs dw cdt\n",
    "    cdt = some_data['cdt'].values\n",
    "    diff_dw_d1_real = -1 * some_data['y21_real'].values - some_d1_real\n",
    "    diff_dw_d2_real = -1 * some_data['y21_real'].values - some_d2_real\n",
    "    \n",
    "    exp_1 = exp_data.loc[some_bias, 'dw-d1']\n",
    "    exp_2 = exp_data.loc[some_bias, 'dw-d2']\n",
    "    \n",
    "    delta_1 = exp_1 / 4.4\n",
    "    delta_2 = exp_2 / 4.4\n",
    "    \n",
    "    if exchange_d1d2:\n",
    "        dw_cdt_1 = from_y_to_x(cdt, diff_dw_d2_real, delta_1, 500)\n",
    "        dw_cdt_2 = from_y_to_x(cdt, diff_dw_d1_real, delta_2, 500)\n",
    "    else:\n",
    "        dw_cdt_1 = from_y_to_x(cdt, diff_dw_d1_real, delta_1, 500)\n",
    "        dw_cdt_2 = from_y_to_x(cdt, diff_dw_d2_real, delta_2, 500)\n",
    "    \n",
    "    dw_cdt_vs_bias.loc[some_bias, 'cdt1'] = dw_cdt_1\n",
    "    dw_cdt_vs_bias.loc[some_bias, 'cdt2'] = dw_cdt_2\n",
    "    \n",
    "    plt.plot(cdt, diff_dw_d1_real, 'b-', cdt, diff_dw_d2_real, 'r-')\n",
    "\n",
    "plt.xscale('log')\n",
    "plt.xlim([300, 3000])\n",
    "plt.ylim([-5,5])\n",
    "# plt.plot(dw_cdt_vs_bias.index.values, dw_cdt_vs_bias['cdt1'], 'b-', dw_cdt_vs_bias.index.values, dw_cdt_vs_bias['cdt2'], 'r-')"
   ]
  },
  {
   "cell_type": "code",
   "execution_count": 4,
   "metadata": {
    "collapsed": true,
    "deletable": true,
    "editable": true
   },
   "outputs": [],
   "source": [
    "dw_cdt_vs_bias['avg_cdt'] = (dw_cdt_vs_bias['cdt1'] + dw_cdt_vs_bias['cdt2']) / 2.0"
   ]
  },
  {
   "cell_type": "code",
   "execution_count": 5,
   "metadata": {
    "collapsed": false,
    "deletable": true,
    "editable": true
   },
   "outputs": [
    {
     "data": {
      "text/html": [
       "<div>\n",
       "<table border=\"1\" class=\"dataframe\">\n",
       "  <thead>\n",
       "    <tr style=\"text-align: right;\">\n",
       "      <th></th>\n",
       "      <th>cdt1</th>\n",
       "      <th>cdt2</th>\n",
       "      <th>avg_cdt</th>\n",
       "    </tr>\n",
       "  </thead>\n",
       "  <tbody>\n",
       "    <tr>\n",
       "      <th>2</th>\n",
       "      <td>2261.567399</td>\n",
       "      <td>2202.915961</td>\n",
       "      <td>2232.241680</td>\n",
       "    </tr>\n",
       "    <tr>\n",
       "      <th>1</th>\n",
       "      <td>2440.845849</td>\n",
       "      <td>2496.881702</td>\n",
       "      <td>2468.863775</td>\n",
       "    </tr>\n",
       "    <tr>\n",
       "      <th>0</th>\n",
       "      <td>1991.228128</td>\n",
       "      <td>1962.395437</td>\n",
       "      <td>1976.811782</td>\n",
       "    </tr>\n",
       "    <tr>\n",
       "      <th>-1</th>\n",
       "      <td>760.836791</td>\n",
       "      <td>722.863497</td>\n",
       "      <td>741.850144</td>\n",
       "    </tr>\n",
       "    <tr>\n",
       "      <th>-2</th>\n",
       "      <td>449.119781</td>\n",
       "      <td>447.976183</td>\n",
       "      <td>448.547982</td>\n",
       "    </tr>\n",
       "  </tbody>\n",
       "</table>\n",
       "</div>"
      ],
      "text/plain": [
       "           cdt1         cdt2      avg_cdt\n",
       " 2  2261.567399  2202.915961  2232.241680\n",
       " 1  2440.845849  2496.881702  2468.863775\n",
       " 0  1991.228128  1962.395437  1976.811782\n",
       "-1   760.836791   722.863497   741.850144\n",
       "-2   449.119781   447.976183   448.547982"
      ]
     },
     "execution_count": 5,
     "metadata": {},
     "output_type": "execute_result"
    }
   ],
   "source": [
    "dw_cdt_vs_bias"
   ]
  },
  {
   "cell_type": "code",
   "execution_count": null,
   "metadata": {
    "collapsed": true,
    "deletable": true,
    "editable": true
   },
   "outputs": [],
   "source": []
  }
 ],
 "metadata": {
  "kernelspec": {
   "display_name": "Python 2",
   "language": "python",
   "name": "python2"
  },
  "language_info": {
   "codemirror_mode": {
    "name": "ipython",
    "version": 2
   },
   "file_extension": ".py",
   "mimetype": "text/x-python",
   "name": "python",
   "nbconvert_exporter": "python",
   "pygments_lexer": "ipython2",
   "version": "2.7.13"
  }
 },
 "nbformat": 4,
 "nbformat_minor": 2
}
