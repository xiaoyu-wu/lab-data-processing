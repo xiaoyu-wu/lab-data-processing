{
 "cells": [
  {
   "cell_type": "markdown",
   "metadata": {
    "deletable": true,
    "editable": true
   },
   "source": [
    "# Load simulation data"
   ]
  },
  {
   "cell_type": "code",
   "execution_count": 1,
   "metadata": {
    "collapsed": false,
    "deletable": true,
    "editable": true
   },
   "outputs": [],
   "source": [
    "import os\n",
    "import sys\n",
    "module_path = os.path.abspath(os.path.join('..'))\n",
    "\n",
    "if module_path not in sys.path:\n",
    "    sys.path.append(module_path)\n",
    "    \n",
    "from common.read_COMSOL_data import *"
   ]
  },
  {
   "cell_type": "code",
   "execution_count": 2,
   "metadata": {
    "collapsed": false,
    "deletable": true,
    "editable": true
   },
   "outputs": [],
   "source": [
    "CURR_PATH = os.getcwd()\n",
    "DATA_PATH = os.path.join(CURR_PATH, 'data')"
   ]
  },
  {
   "cell_type": "markdown",
   "metadata": {
    "deletable": true,
    "editable": true
   },
   "source": [
    "For sample"
   ]
  },
  {
   "cell_type": "code",
   "execution_count": 3,
   "metadata": {
    "collapsed": false,
    "deletable": true,
    "editable": true
   },
   "outputs": [],
   "source": [
    "file_path_sample_2d = os.path.join(DATA_PATH, '20171022_lfo_sim_data_2d.csv')\n",
    "data_sample_2d = read_COMSOL_csv(file_path_sample_2d, name_list=['tip_curv', 'cdt', 'freq', 'y21_imag', 'y21_real'])\n",
    "file_path_sample = os.path.join(DATA_PATH, '20171022_lfo_sim_data_3d.csv')\n",
    "data_sample = read_COMSOL_csv(file_path_sample, name_list=['tip_curv', 'cdt', 'freq', 'y21_imag', 'y21_real'])"
   ]
  },
  {
   "cell_type": "code",
   "execution_count": 4,
   "metadata": {
    "collapsed": false,
    "deletable": true,
    "editable": true
   },
   "outputs": [
    {
     "data": {
      "text/html": [
       "<div>\n",
       "<table border=\"1\" class=\"dataframe\">\n",
       "  <thead>\n",
       "    <tr style=\"text-align: right;\">\n",
       "      <th></th>\n",
       "      <th>tip_curv</th>\n",
       "      <th>cdt</th>\n",
       "      <th>freq</th>\n",
       "      <th>y21_imag</th>\n",
       "      <th>y21_real</th>\n",
       "    </tr>\n",
       "  </thead>\n",
       "  <tbody>\n",
       "    <tr>\n",
       "      <th>0</th>\n",
       "      <td>100</td>\n",
       "      <td>0.010000</td>\n",
       "      <td>1000000000</td>\n",
       "      <td>-432.868977</td>\n",
       "      <td>-0.492277</td>\n",
       "    </tr>\n",
       "    <tr>\n",
       "      <th>1</th>\n",
       "      <td>100</td>\n",
       "      <td>0.017783</td>\n",
       "      <td>1000000000</td>\n",
       "      <td>-432.877769</td>\n",
       "      <td>-0.875274</td>\n",
       "    </tr>\n",
       "    <tr>\n",
       "      <th>2</th>\n",
       "      <td>100</td>\n",
       "      <td>0.031623</td>\n",
       "      <td>1000000000</td>\n",
       "      <td>-432.905554</td>\n",
       "      <td>-1.555739</td>\n",
       "    </tr>\n",
       "    <tr>\n",
       "      <th>3</th>\n",
       "      <td>100</td>\n",
       "      <td>0.056234</td>\n",
       "      <td>1000000000</td>\n",
       "      <td>-432.993235</td>\n",
       "      <td>-2.762374</td>\n",
       "    </tr>\n",
       "    <tr>\n",
       "      <th>4</th>\n",
       "      <td>100</td>\n",
       "      <td>0.100000</td>\n",
       "      <td>1000000000</td>\n",
       "      <td>-433.268697</td>\n",
       "      <td>-4.889010</td>\n",
       "    </tr>\n",
       "  </tbody>\n",
       "</table>\n",
       "</div>"
      ],
      "text/plain": [
       "   tip_curv       cdt        freq    y21_imag  y21_real\n",
       "0       100  0.010000  1000000000 -432.868977 -0.492277\n",
       "1       100  0.017783  1000000000 -432.877769 -0.875274\n",
       "2       100  0.031623  1000000000 -432.905554 -1.555739\n",
       "3       100  0.056234  1000000000 -432.993235 -2.762374\n",
       "4       100  0.100000  1000000000 -433.268697 -4.889010"
      ]
     },
     "execution_count": 4,
     "metadata": {},
     "output_type": "execute_result"
    }
   ],
   "source": [
    "data_sample.head()"
   ]
  },
  {
   "cell_type": "code",
   "execution_count": 5,
   "metadata": {
    "collapsed": true,
    "deletable": true,
    "editable": true
   },
   "outputs": [],
   "source": [
    "tip_curv = 300\n",
    "freq = 1e9\n",
    "conditions= {'tip_curv': tip_curv, 'freq': freq}\n",
    "sub_sample_2d = get_sub_dataframe(data_sample_2d, conditions=conditions)\n",
    "sub_sample = get_sub_dataframe(data_sample, conditions=conditions)"
   ]
  },
  {
   "cell_type": "code",
   "execution_count": 6,
   "metadata": {
    "collapsed": true,
    "deletable": true,
    "editable": true
   },
   "outputs": [],
   "source": [
    "cdt = sub_sample['cdt'].values\n",
    "imag = -1 * sub_sample['y21_imag'].values\n",
    "real = -1 * sub_sample['y21_real'].values\n",
    "cdt_2d = sub_sample_2d['cdt'].values\n",
    "imag_2d = -1 * sub_sample_2d['y21_imag'].values\n",
    "real_2d = -1 * sub_sample_2d['y21_real'].values"
   ]
  },
  {
   "cell_type": "code",
   "execution_count": 7,
   "metadata": {
    "collapsed": false,
    "deletable": true,
    "editable": true
   },
   "outputs": [
    {
     "data": {
      "image/png": "[encoded data removed]",
      "text/plain": [
       "<matplotlib.figure.Figure at 0x8664f28>"
      ]
     },
     "metadata": {},
     "output_type": "display_data"
    }
   ],
   "source": [
    "%matplotlib inline\n",
    "import matplotlib.pyplot as plt\n",
    "plt.plot(cdt, imag, 'b-', cdt, real, 'r-')\n",
    "plt.plot(cdt_2d, imag_2d, 'b--', cdt_2d, real_2d, 'r--')\n",
    "plt.xscale('log')"
   ]
  },
  {
   "cell_type": "markdown",
   "metadata": {
    "deletable": true,
    "editable": true
   },
   "source": [
    "Minor difference between 2d and 3d simulation."
   ]
  },
  {
   "cell_type": "markdown",
   "metadata": {
    "deletable": true,
    "editable": true
   },
   "source": [
    "# Interpolate curves for imag & real"
   ]
  },
  {
   "cell_type": "code",
   "execution_count": 8,
   "metadata": {
    "collapsed": false,
    "deletable": true,
    "editable": true
   },
   "outputs": [
    {
     "data": {
      "image/png": "[encoded data removed]",
      "text/plain": [
       "<matplotlib.figure.Figure at 0xaf47208>"
      ]
     },
     "metadata": {},
     "output_type": "display_data"
    }
   ],
   "source": [
    "from scipy.interpolate import InterpolatedUnivariateSpline\n",
    "curve_imag = InterpolatedUnivariateSpline(cdt, imag)\n",
    "curve_real = InterpolatedUnivariateSpline(cdt, real)\n",
    "xs = numpy.logspace(-2, 2, 100)\n",
    "\n",
    "plt.subplot(2, 1, 1)\n",
    "plt.plot(xs, curve_imag(xs), 'b--')\n",
    "plt.plot(cdt, imag, 'bs')\n",
    "plt.xscale('log')\n",
    "\n",
    "plt.subplot(2, 1, 2)\n",
    "plt.plot(xs, curve_real(xs), 'r--')\n",
    "plt.plot(cdt, real, 'rs')\n",
    "plt.xscale('log')"
   ]
  },
  {
   "cell_type": "code",
   "execution_count": 9,
   "metadata": {
    "collapsed": true,
    "deletable": true,
    "editable": true
   },
   "outputs": [],
   "source": [
    "def get_delta_y(avg_x, delta_x, curve):\n",
    "    x1 = avg_x - 0.5 * delta_x\n",
    "    x2 = avg_x + 0.5 * delta_x\n",
    "    delta_y = curve(x2) - curve(x1)\n",
    "    return delta_y"
   ]
  },
  {
   "cell_type": "code",
   "execution_count": 10,
   "metadata": {
    "collapsed": false,
    "deletable": true,
    "editable": true
   },
   "outputs": [
    {
     "data": {
      "text/plain": [
       "2.4959222767275264"
      ]
     },
     "execution_count": 10,
     "metadata": {},
     "output_type": "execute_result"
    }
   ],
   "source": [
    "get_delta_y(1, 0.1, curve_real)"
   ]
  },
  {
   "cell_type": "markdown",
   "metadata": {
    "deletable": true,
    "editable": true
   },
   "source": [
    "# Estimation of domain1/2 cdt at different bias"
   ]
  },
  {
   "cell_type": "code",
   "execution_count": 11,
   "metadata": {
    "collapsed": false,
    "deletable": true,
    "editable": true
   },
   "outputs": [],
   "source": [
    "import pandas\n",
    "file_path = os.path.join(DATA_PATH, '20171020_d1d2_cdt_estimation2.csv')\n",
    "data = pandas.read_csv(file_path, names=['bias', 'imag', 'real'])"
   ]
  },
  {
   "cell_type": "code",
   "execution_count": 13,
   "metadata": {
    "collapsed": false,
    "deletable": true,
    "editable": true
   },
   "outputs": [],
   "source": [
    "# scaling_factor 4.4 (3.5mV for 1nS at -20dBm => 4.4mV for 1nS at -18dBm)\n",
    "def search_d1d2_cdt2(avg_cdt, search_range, mim_delta_real, signal_scaling_factor=4.4):\n",
    "    delta_real = mim_delta_real / signal_scaling_factor\n",
    "    \n",
    "    best_cdt1 = 0\n",
    "    best_cdt2 = 0\n",
    "\n",
    "    err_sqr_sum = 999\n",
    "    for i in search_range:\n",
    "            cdt1 = avg_cdt * (1 - i)\n",
    "            cdt2 = avg_cdt * (1 + i)\n",
    "            delta_real_new = curve_real(cdt1) - curve_real(cdt2)\n",
    "            new_err_sqr_sum = (delta_real_new - delta_real) ** 2\n",
    "            if new_err_sqr_sum < err_sqr_sum:\n",
    "                best_cdt1 = cdt1\n",
    "                best_cdt2 = cdt2\n",
    "                err_sqr_sum = new_err_sqr_sum\n",
    "    print \"Best fit cdt1: {} S/m, cdt2: {} S/m, error: {}\".format(best_cdt1, best_cdt2, err_sqr_sum)\n",
    "    print \"[Delta Real] Experiment: {}nS, Simulation: {}nS\".format(delta_real, curve_real(best_cdt1) - curve_real(best_cdt2))\n",
    "    return (best_cdt1, best_cdt2)"
   ]
  },
  {
   "cell_type": "code",
   "execution_count": 15,
   "metadata": {
    "collapsed": false,
    "deletable": true,
    "editable": true
   },
   "outputs": [
    {
     "name": "stdout",
     "output_type": "stream",
     "text": [
      "Best fit cdt1: 0.0926861646647 S/m, cdt2: 0.0914878353353 S/m, error: 3.92245171007e-05\n",
      "[Delta Real] Experiment: 0.115909090909nS, Simulation: 0.109646142953nS\n"
     ]
    }
   ],
   "source": [
    "some_bias = 2\n",
    "some_data = data[data['bias'] == some_bias]\n",
    "some_imag = some_data['imag'].values[0]\n",
    "some_real = some_data['real'].values[0]\n",
    "(data.loc[1, 'cdt1'], data.loc[1, 'cdt2']) = search_d1d2_cdt2(0.092087, numpy.linspace(-0.5, 0.5, 1000), some_real)"
   ]
  },
  {
   "cell_type": "code",
   "execution_count": 16,
   "metadata": {
    "collapsed": false,
    "deletable": true,
    "editable": true
   },
   "outputs": [
    {
     "name": "stdout",
     "output_type": "stream",
     "text": [
      "Best fit cdt1: 0.0881050900901 S/m, cdt2: 0.0873149099099 S/m, error: 5.12763851782e-05\n",
      "[Delta Real] Experiment: 0.0795454545455nS, Simulation: 0.0723847014302nS\n"
     ]
    }
   ],
   "source": [
    "some_bias = 1\n",
    "some_data = data[data['bias'] == some_bias]\n",
    "some_imag = some_data['imag'].values[0]\n",
    "some_real = some_data['real'].values[0]\n",
    "(data.loc[2, 'cdt1'], data.loc[2, 'cdt2']) = search_d1d2_cdt2(0.087710, numpy.linspace(-0.5, 0.5, 1000), some_real)"
   ]
  },
  {
   "cell_type": "code",
   "execution_count": 17,
   "metadata": {
    "collapsed": false,
    "deletable": true,
    "editable": true
   },
   "outputs": [
    {
     "name": "stdout",
     "output_type": "stream",
     "text": [
      "Best fit cdt1: 0.144691156156 S/m, cdt2: 0.143680843844 S/m, error: 5.72121125925e-06\n",
      "[Delta Real] Experiment: 0.0931818181818nS, Simulation: 0.0907899128201nS\n"
     ]
    }
   ],
   "source": [
    "some_bias = 0\n",
    "some_data = data[data['bias'] == some_bias]\n",
    "some_imag = some_data['imag'].values[0]\n",
    "some_real = some_data['real'].values[0]\n",
    "(data.loc[3, 'cdt1'], data.loc[3, 'cdt2']) = search_d1d2_cdt2(0.144186, numpy.linspace(-0.5, 0.5, 1000), some_real)"
   ]
  },
  {
   "cell_type": "code",
   "execution_count": 18,
   "metadata": {
    "collapsed": false,
    "deletable": true,
    "editable": true
   },
   "outputs": [
    {
     "name": "stdout",
     "output_type": "stream",
     "text": [
      "Best fit cdt1: 0.392280381381 S/m, cdt2: 0.403835618619 S/m, error: 0.000237139502492\n",
      "[Delta Real] Experiment: -0.838636363636nS, Simulation: -0.854035698118nS\n"
     ]
    }
   ],
   "source": [
    "some_bias = -1\n",
    "some_data = data[data['bias'] == some_bias]\n",
    "some_imag = some_data['imag'].values[0]\n",
    "some_real = some_data['real'].values[0]\n",
    "(data.loc[4, 'cdt1'], data.loc[4, 'cdt2']) = search_d1d2_cdt2(0.398058, numpy.linspace(-0.5, 0.5, 1000), some_real)"
   ]
  },
  {
   "cell_type": "code",
   "execution_count": 19,
   "metadata": {
    "collapsed": false,
    "deletable": true,
    "editable": true
   },
   "outputs": [
    {
     "name": "stdout",
     "output_type": "stream",
     "text": [
      "Best fit cdt1: 0.559728288288 S/m, cdt2: 0.596175711712 S/m, error: 0.000843826559708\n",
      "[Delta Real] Experiment: -2.09318181818nS, Simulation: -2.12223051109nS\n"
     ]
    }
   ],
   "source": [
    "some_bias = -2\n",
    "some_data = data[data['bias'] == some_bias]\n",
    "some_imag = some_data['imag'].values[0]\n",
    "some_real = some_data['real'].values[0]\n",
    "(data.loc[5, 'cdt1'], data.loc[5, 'cdt2']) = search_d1d2_cdt2(0.577952, numpy.linspace(-0.5, 0.5, 1000), some_real)"
   ]
  },
  {
   "cell_type": "code",
   "execution_count": 24,
   "metadata": {
    "collapsed": false,
    "deletable": true,
    "editable": true
   },
   "outputs": [
    {
     "data": {
      "image/png": "[encoded data removed]",
      "text/plain": [
       "<matplotlib.figure.Figure at 0xb175f98>"
      ]
     },
     "metadata": {},
     "output_type": "display_data"
    }
   ],
   "source": [
    "plt.plot(data['bias'].values, data['cdt1'].values, 'b-')\n",
    "plt.plot(data['bias'].values, data['cdt2'].values, 'r-')\n",
    "plt.yscale('log')"
   ]
  },
  {
   "cell_type": "code",
   "execution_count": 22,
   "metadata": {
    "collapsed": false,
    "deletable": true,
    "editable": true
   },
   "outputs": [],
   "source": [
    "data.to_csv(os.path.join(DATA_PATH, \"20171022_d1d2_cdt_vs_bias_result_real.csv\"), index=False)"
   ]
  },
  {
   "cell_type": "code",
   "execution_count": 23,
   "metadata": {
    "collapsed": false,
    "deletable": true,
    "editable": true
   },
   "outputs": [
    {
     "data": {
      "text/html": [
       "<div>\n",
       "<table border=\"1\" class=\"dataframe\">\n",
       "  <thead>\n",
       "    <tr style=\"text-align: right;\">\n",
       "      <th></th>\n",
       "      <th>bias</th>\n",
       "      <th>imag</th>\n",
       "      <th>real</th>\n",
       "      <th>cdt1</th>\n",
       "      <th>cdt2</th>\n",
       "    </tr>\n",
       "  </thead>\n",
       "  <tbody>\n",
       "    <tr>\n",
       "      <th>0</th>\n",
       "      <td>3</td>\n",
       "      <td>32.11</td>\n",
       "      <td>4.97</td>\n",
       "      <td>NaN</td>\n",
       "      <td>NaN</td>\n",
       "    </tr>\n",
       "    <tr>\n",
       "      <th>1</th>\n",
       "      <td>2</td>\n",
       "      <td>5.49</td>\n",
       "      <td>0.51</td>\n",
       "      <td>0.092686</td>\n",
       "      <td>0.091488</td>\n",
       "    </tr>\n",
       "    <tr>\n",
       "      <th>2</th>\n",
       "      <td>1</td>\n",
       "      <td>1.76</td>\n",
       "      <td>0.35</td>\n",
       "      <td>0.088105</td>\n",
       "      <td>0.087315</td>\n",
       "    </tr>\n",
       "    <tr>\n",
       "      <th>3</th>\n",
       "      <td>0</td>\n",
       "      <td>0.49</td>\n",
       "      <td>0.41</td>\n",
       "      <td>0.144691</td>\n",
       "      <td>0.143681</td>\n",
       "    </tr>\n",
       "    <tr>\n",
       "      <th>4</th>\n",
       "      <td>-1</td>\n",
       "      <td>-1.03</td>\n",
       "      <td>-3.69</td>\n",
       "      <td>0.392280</td>\n",
       "      <td>0.403836</td>\n",
       "    </tr>\n",
       "    <tr>\n",
       "      <th>5</th>\n",
       "      <td>-2</td>\n",
       "      <td>-5.21</td>\n",
       "      <td>-9.21</td>\n",
       "      <td>0.559728</td>\n",
       "      <td>0.596176</td>\n",
       "    </tr>\n",
       "  </tbody>\n",
       "</table>\n",
       "</div>"
      ],
      "text/plain": [
       "   bias   imag  real      cdt1      cdt2\n",
       "0     3  32.11  4.97       NaN       NaN\n",
       "1     2   5.49  0.51  0.092686  0.091488\n",
       "2     1   1.76  0.35  0.088105  0.087315\n",
       "3     0   0.49  0.41  0.144691  0.143681\n",
       "4    -1  -1.03 -3.69  0.392280  0.403836\n",
       "5    -2  -5.21 -9.21  0.559728  0.596176"
      ]
     },
     "execution_count": 23,
     "metadata": {},
     "output_type": "execute_result"
    }
   ],
   "source": [
    "data"
   ]
  },
  {
   "cell_type": "code",
   "execution_count": null,
   "metadata": {
    "collapsed": true,
    "deletable": true,
    "editable": true
   },
   "outputs": [],
   "source": []
  }
 ],
 "metadata": {
  "kernelspec": {
   "display_name": "Python 2",
   "language": "python",
   "name": "python2"
  },
  "language_info": {
   "codemirror_mode": {
    "name": "ipython",
    "version": 2
   },
   "file_extension": ".py",
   "mimetype": "text/x-python",
   "name": "python",
   "nbconvert_exporter": "python",
   "pygments_lexer": "ipython2",
   "version": "2.7.13"
  }
 },
 "nbformat": 4,
 "nbformat_minor": 2
}
