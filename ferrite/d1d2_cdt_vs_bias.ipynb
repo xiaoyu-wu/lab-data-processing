{
 "cells": [
  {
   "cell_type": "markdown",
   "metadata": {
    "deletable": true,
    "editable": true
   },
   "source": [
    "# Load simulation data"
   ]
  },
  {
   "cell_type": "code",
   "execution_count": 1,
   "metadata": {
    "collapsed": false,
    "deletable": true,
    "editable": true
   },
   "outputs": [],
   "source": [
    "import os\n",
    "import sys\n",
    "module_path = os.path.abspath(os.path.join('..'))\n",
    "\n",
    "if module_path not in sys.path:\n",
    "    sys.path.append(module_path)\n",
    "    \n",
    "from common.read_COMSOL_data import *"
   ]
  },
  {
   "cell_type": "code",
   "execution_count": 2,
   "metadata": {
    "collapsed": false,
    "deletable": true,
    "editable": true
   },
   "outputs": [],
   "source": [
    "CURR_PATH = os.getcwd()\n",
    "DATA_PATH = os.path.join(CURR_PATH, 'data')"
   ]
  },
  {
   "cell_type": "markdown",
   "metadata": {
    "deletable": true,
    "editable": true
   },
   "source": [
    "For sample"
   ]
  },
  {
   "cell_type": "code",
   "execution_count": 3,
   "metadata": {
    "collapsed": false,
    "deletable": true,
    "editable": true
   },
   "outputs": [],
   "source": [
    "file_path_sample_2d = os.path.join(DATA_PATH, '20171022_lfo_sim_data_2d.csv')\n",
    "data_sample_2d = read_COMSOL_csv(file_path_sample_2d, name_list=['tip_curv', 'cdt', 'freq', 'y21_imag', 'y21_real'])\n",
    "file_path_sample = os.path.join(DATA_PATH, '20171022_lfo_sim_data_3d.csv')\n",
    "data_sample = read_COMSOL_csv(file_path_sample, name_list=['tip_curv', 'cdt', 'freq', 'y21_imag', 'y21_real'])"
   ]
  },
  {
   "cell_type": "code",
   "execution_count": 4,
   "metadata": {
    "collapsed": false,
    "deletable": true,
    "editable": true
   },
   "outputs": [
    {
     "data": {
      "text/html": [
       "<div>\n",
       "<table border=\"1\" class=\"dataframe\">\n",
       "  <thead>\n",
       "    <tr style=\"text-align: right;\">\n",
       "      <th></th>\n",
       "      <th>tip_curv</th>\n",
       "      <th>cdt</th>\n",
       "      <th>freq</th>\n",
       "      <th>y21_imag</th>\n",
       "      <th>y21_real</th>\n",
       "    </tr>\n",
       "  </thead>\n",
       "  <tbody>\n",
       "    <tr>\n",
       "      <th>0</th>\n",
       "      <td>100</td>\n",
       "      <td>0.010000</td>\n",
       "      <td>1000000000</td>\n",
       "      <td>-432.868977</td>\n",
       "      <td>-0.492277</td>\n",
       "    </tr>\n",
       "    <tr>\n",
       "      <th>1</th>\n",
       "      <td>100</td>\n",
       "      <td>0.017783</td>\n",
       "      <td>1000000000</td>\n",
       "      <td>-432.877769</td>\n",
       "      <td>-0.875274</td>\n",
       "    </tr>\n",
       "    <tr>\n",
       "      <th>2</th>\n",
       "      <td>100</td>\n",
       "      <td>0.031623</td>\n",
       "      <td>1000000000</td>\n",
       "      <td>-432.905554</td>\n",
       "      <td>-1.555739</td>\n",
       "    </tr>\n",
       "    <tr>\n",
       "      <th>3</th>\n",
       "      <td>100</td>\n",
       "      <td>0.056234</td>\n",
       "      <td>1000000000</td>\n",
       "      <td>-432.993235</td>\n",
       "      <td>-2.762374</td>\n",
       "    </tr>\n",
       "    <tr>\n",
       "      <th>4</th>\n",
       "      <td>100</td>\n",
       "      <td>0.100000</td>\n",
       "      <td>1000000000</td>\n",
       "      <td>-433.268697</td>\n",
       "      <td>-4.889010</td>\n",
       "    </tr>\n",
       "  </tbody>\n",
       "</table>\n",
       "</div>"
      ],
      "text/plain": [
       "   tip_curv       cdt        freq    y21_imag  y21_real\n",
       "0       100  0.010000  1000000000 -432.868977 -0.492277\n",
       "1       100  0.017783  1000000000 -432.877769 -0.875274\n",
       "2       100  0.031623  1000000000 -432.905554 -1.555739\n",
       "3       100  0.056234  1000000000 -432.993235 -2.762374\n",
       "4       100  0.100000  1000000000 -433.268697 -4.889010"
      ]
     },
     "execution_count": 4,
     "metadata": {},
     "output_type": "execute_result"
    }
   ],
   "source": [
    "data_sample.head()"
   ]
  },
  {
   "cell_type": "code",
   "execution_count": 5,
   "metadata": {
    "collapsed": true,
    "deletable": true,
    "editable": true
   },
   "outputs": [],
   "source": [
    "tip_curv = 300\n",
    "freq = 1e9\n",
    "conditions= {'tip_curv': tip_curv, 'freq': freq}\n",
    "sub_sample_2d = get_sub_dataframe(data_sample_2d, conditions=conditions)\n",
    "sub_sample = get_sub_dataframe(data_sample, conditions=conditions)"
   ]
  },
  {
   "cell_type": "code",
   "execution_count": 6,
   "metadata": {
    "collapsed": true,
    "deletable": true,
    "editable": true
   },
   "outputs": [],
   "source": [
    "cdt = sub_sample['cdt'].values\n",
    "imag = -1 * sub_sample['y21_imag'].values\n",
    "real = -1 * sub_sample['y21_real'].values\n",
    "cdt_2d = sub_sample_2d['cdt'].values\n",
    "imag_2d = -1 * sub_sample_2d['y21_imag'].values\n",
    "real_2d = -1 * sub_sample_2d['y21_real'].values"
   ]
  },
  {
   "cell_type": "code",
   "execution_count": 7,
   "metadata": {
    "collapsed": false,
    "deletable": true,
    "editable": true
   },
   "outputs": [
    {
     "data": {
      "image/png": "[encoded data removed]",
      "text/plain": [
       "<matplotlib.figure.Figure at 0x884bfd0>"
      ]
     },
     "metadata": {},
     "output_type": "display_data"
    }
   ],
   "source": [
    "%matplotlib inline\n",
    "import matplotlib.pyplot as plt\n",
    "plt.plot(cdt, imag, 'b-', cdt, real, 'r-')\n",
    "plt.plot(cdt_2d, imag_2d, 'b--', cdt_2d, real_2d, 'r--')\n",
    "plt.xscale('log')"
   ]
  },
  {
   "cell_type": "markdown",
   "metadata": {},
   "source": [
    "Minor difference between 2d and 3d simulation."
   ]
  },
  {
   "cell_type": "markdown",
   "metadata": {
    "deletable": true,
    "editable": true
   },
   "source": [
    "# Interpolate curves for imag & real"
   ]
  },
  {
   "cell_type": "code",
   "execution_count": 8,
   "metadata": {
    "collapsed": false,
    "deletable": true,
    "editable": true
   },
   "outputs": [
    {
     "data": {
      "image/png": "[encoded data removed]",
      "text/plain": [
       "<matplotlib.figure.Figure at 0xaf79240>"
      ]
     },
     "metadata": {},
     "output_type": "display_data"
    }
   ],
   "source": [
    "from scipy.interpolate import InterpolatedUnivariateSpline\n",
    "curve_imag = InterpolatedUnivariateSpline(cdt, imag)\n",
    "curve_real = InterpolatedUnivariateSpline(cdt, real)\n",
    "xs = numpy.logspace(-2, 2, 100)\n",
    "\n",
    "plt.subplot(2, 1, 1)\n",
    "plt.plot(xs, curve_imag(xs), 'b--')\n",
    "plt.plot(cdt, imag, 'bs')\n",
    "plt.xscale('log')\n",
    "\n",
    "plt.subplot(2, 1, 2)\n",
    "plt.plot(xs, curve_real(xs), 'r--')\n",
    "plt.plot(cdt, real, 'rs')\n",
    "plt.xscale('log')"
   ]
  },
  {
   "cell_type": "code",
   "execution_count": 9,
   "metadata": {
    "collapsed": true,
    "deletable": true,
    "editable": true
   },
   "outputs": [],
   "source": [
    "def get_delta_y(avg_x, delta_x, curve):\n",
    "    x1 = avg_x - 0.5 * delta_x\n",
    "    x2 = avg_x + 0.5 * delta_x\n",
    "    delta_y = curve(x2) - curve(x1)\n",
    "    return delta_y"
   ]
  },
  {
   "cell_type": "code",
   "execution_count": 10,
   "metadata": {
    "collapsed": false,
    "deletable": true,
    "editable": true
   },
   "outputs": [
    {
     "data": {
      "text/plain": [
       "2.4959222767275264"
      ]
     },
     "execution_count": 10,
     "metadata": {},
     "output_type": "execute_result"
    }
   ],
   "source": [
    "get_delta_y(1, 0.1, curve_real)"
   ]
  },
  {
   "cell_type": "markdown",
   "metadata": {
    "deletable": true,
    "editable": true
   },
   "source": [
    "# Estimation of domain1/2 cdt at different bias"
   ]
  },
  {
   "cell_type": "code",
   "execution_count": 11,
   "metadata": {
    "collapsed": false,
    "deletable": true,
    "editable": true
   },
   "outputs": [],
   "source": [
    "import pandas\n",
    "file_path = os.path.join(DATA_PATH, '20171020_d1d2_cdt_estimation3.csv')\n",
    "data = pandas.read_csv(file_path, names=['bias', 'imag', 'real'])"
   ]
  },
  {
   "cell_type": "code",
   "execution_count": 12,
   "metadata": {
    "collapsed": true,
    "deletable": true,
    "editable": true
   },
   "outputs": [],
   "source": [
    "# scaling_factor 4.4 (3.5mV for 1nS at -20dBm => 4.4mV for 1nS at -18dBm)\n",
    "def search_d1d2_cdt(avg_cdt, search_range, mim_delta_imag, mim_delta_real, signal_scaling_factor=4.4):\n",
    "    cdt_range = numpy.linspace(search_range[0] * avg_cdt, search_range[1] * avg_cdt, 1000)\n",
    "    delta_imag = mim_delta_imag / signal_scaling_factor\n",
    "    delta_real = mim_delta_real / signal_scaling_factor\n",
    "    \n",
    "    best_cdt1 = 0\n",
    "    best_cdt2 = 0\n",
    "\n",
    "    err_sqr_sum = 999\n",
    "    for cdt1 in cdt_range:\n",
    "        for cdt2 in cdt_range:\n",
    "            delta_imag_new = curve_imag(cdt1) - curve_imag(cdt2)\n",
    "            delta_real_new = curve_real(cdt1) - curve_real(cdt2)\n",
    "            new_err_sqr_sum = (delta_imag_new - delta_imag) ** 2 + (delta_real_new - delta_real) ** 2\n",
    "            if new_err_sqr_sum < err_sqr_sum:\n",
    "                best_cdt1 = cdt1\n",
    "                best_cdt2 = cdt2\n",
    "                err_sqr_sum = new_err_sqr_sum\n",
    "    print \"Best fit cdt1: {} S/m, cdt2: {} S/m, error: {}\".format(best_cdt1, best_cdt2, err_sqr_sum)\n",
    "    print \"[Delta Imag] Experiment: {}nS, Simulation: {}nS\".format(delta_imag, curve_imag(best_cdt1) - curve_imag(best_cdt2))\n",
    "    print \"[Delta Real] Experiment: {}nS, Simulation: {}nS\".format(delta_real, curve_real(best_cdt1) - curve_real(best_cdt2))\n",
    "    return (best_cdt1, best_cdt2)"
   ]
  },
  {
   "cell_type": "code",
   "execution_count": 22,
   "metadata": {
    "collapsed": false,
    "deletable": true,
    "editable": true
   },
   "outputs": [
    {
     "name": "stdout",
     "output_type": "stream",
     "text": [
      "Best fit cdt1: 1.0 S/m, cdt2: 0.882072072072 S/m, error: 4.87946590153\n",
      "[Delta Imag] Experiment: 7.94545454545nS, Simulation: 6.8599142654nS\n",
      "[Delta Real] Experiment: 1.48863636364nS, Simulation: 3.41245241563nS\n"
     ]
    }
   ],
   "source": [
    "some_bias = 3\n",
    "some_data = data[data['bias'] == some_bias]\n",
    "some_imag = some_data['imag'].values[0]\n",
    "some_real = some_data['real'].values[0]\n",
    "(data.loc[0, 'cdt1'], data.loc[0, 'cdt2']) = search_d1d2_cdt(0.1, (0.1, 10), some_imag, some_real)"
   ]
  },
  {
   "cell_type": "code",
   "execution_count": 14,
   "metadata": {
    "collapsed": false,
    "deletable": true,
    "editable": true
   },
   "outputs": [
    {
     "name": "stdout",
     "output_type": "stream",
     "text": [
      "Best fit cdt1: 1.48468468468 S/m, cdt2: 1.44114114114 S/m, error: 4.14558859066e-05\n",
      "[Delta Imag] Experiment: 2.02954545455nS, Simulation: 2.03526444089nS\n",
      "[Delta Real] Experiment: 0.0909090909091nS, Simulation: 0.0879512063393nS\n"
     ]
    }
   ],
   "source": [
    "some_bias = 2\n",
    "some_data = data[data['bias'] == some_bias]\n",
    "some_imag = some_data['imag'].values[0]\n",
    "some_real = some_data['real'].values[0]\n",
    "(data.loc[1, 'cdt1'], data.loc[1, 'cdt2']) = search_d1d2_cdt(1, (0.1, 3), some_imag, some_real)"
   ]
  },
  {
   "cell_type": "code",
   "execution_count": 15,
   "metadata": {
    "collapsed": false,
    "deletable": true,
    "editable": true
   },
   "outputs": [
    {
     "name": "stdout",
     "output_type": "stream",
     "text": [
      "Best fit cdt1: 1.38888888889 S/m, cdt2: 1.37727727728 S/m, error: 0.000321827001834\n",
      "[Delta Imag] Experiment: 0.55nS, Simulation: 0.565616562707nS\n",
      "[Delta Real] Experiment: 0.0659090909091nS, Simulation: 0.0570801628278nS\n"
     ]
    }
   ],
   "source": [
    "some_bias = 1\n",
    "some_data = data[data['bias'] == some_bias]\n",
    "some_imag = some_data['imag'].values[0]\n",
    "some_real = some_data['real'].values[0]\n",
    "(data.loc[2, 'cdt1'], data.loc[2, 'cdt2']) = search_d1d2_cdt(1, (0.1, 3), some_imag, some_real)"
   ]
  },
  {
   "cell_type": "code",
   "execution_count": 16,
   "metadata": {
    "collapsed": false,
    "deletable": true,
    "editable": true
   },
   "outputs": [
    {
     "name": "stdout",
     "output_type": "stream",
     "text": [
      "Best fit cdt1: 0.970870870871 S/m, cdt2: 0.965065065065 S/m, error: 0.000456893058793\n",
      "[Delta Imag] Experiment: 0.356818181818nS, Simulation: 0.335996367608nS\n",
      "[Delta Real] Experiment: 0.152272727273nS, Simulation: 0.15710440522nS\n"
     ]
    }
   ],
   "source": [
    "some_bias = 0\n",
    "some_data = data[data['bias'] == some_bias]\n",
    "some_imag = some_data['imag'].values[0]\n",
    "some_real = some_data['real'].values[0]\n",
    "(data.loc[3, 'cdt1'], data.loc[3, 'cdt2']) = search_d1d2_cdt(1, (0.1, 3), some_imag, some_real)"
   ]
  },
  {
   "cell_type": "code",
   "execution_count": 17,
   "metadata": {
    "collapsed": false,
    "deletable": true,
    "editable": true
   },
   "outputs": [
    {
     "name": "stdout",
     "output_type": "stream",
     "text": [
      "Best fit cdt1: 0.358358358358 S/m, cdt2: 0.372872872873 S/m, error: 0.0143828506451\n",
      "[Delta Imag] Experiment: -0.506818181818nS, Simulation: -0.589303329384nS\n",
      "[Delta Real] Experiment: -1.02272727273nS, Simulation: -1.10978501837nS\n"
     ]
    }
   ],
   "source": [
    "some_bias = -1\n",
    "some_data = data[data['bias'] == some_bias]\n",
    "some_imag = some_data['imag'].values[0]\n",
    "some_real = some_data['real'].values[0]\n",
    "(data.loc[4, 'cdt1'], data.loc[4, 'cdt2']) = search_d1d2_cdt(1, (0.1, 3), some_imag, some_real)"
   ]
  },
  {
   "cell_type": "code",
   "execution_count": 18,
   "metadata": {
    "collapsed": false,
    "deletable": true,
    "editable": true
   },
   "outputs": [
    {
     "name": "stdout",
     "output_type": "stream",
     "text": [
      "Best fit cdt1: 0.332232232232 S/m, cdt2: 0.364164164164 S/m, error: 0.00259728636158\n",
      "[Delta Imag] Experiment: -1.21363636364nS, Simulation: -1.2493798216nS\n",
      "[Delta Real] Experiment: -2.44772727273nS, Simulation: -2.48405483216nS\n"
     ]
    }
   ],
   "source": [
    "some_bias = -2\n",
    "some_data = data[data['bias'] == some_bias]\n",
    "some_imag = some_data['imag'].values[0]\n",
    "some_real = some_data['real'].values[0]\n",
    "(data.loc[5, 'cdt1'], data.loc[5, 'cdt2']) = search_d1d2_cdt(1, (0.1, 3), some_imag, some_real)"
   ]
  },
  {
   "cell_type": "code",
   "execution_count": 19,
   "metadata": {
    "collapsed": false,
    "deletable": true,
    "editable": true
   },
   "outputs": [
    {
     "data": {
      "text/plain": [
       "[<matplotlib.lines.Line2D at 0xbdc5278>]"
      ]
     },
     "execution_count": 19,
     "metadata": {},
     "output_type": "execute_result"
    },
    {
     "data": {
      "image/png": "[encoded data removed]",
      "text/plain": [
       "<matplotlib.figure.Figure at 0x87fd978>"
      ]
     },
     "metadata": {},
     "output_type": "display_data"
    }
   ],
   "source": [
    "plt.plot(data['bias'].values, data['cdt1'].values, 'b-')\n",
    "plt.plot(data['bias'].values, data['cdt2'].values, 'r-')"
   ]
  },
  {
   "cell_type": "code",
   "execution_count": 20,
   "metadata": {
    "collapsed": false,
    "deletable": true,
    "editable": true
   },
   "outputs": [],
   "source": [
    "data.to_csv(os.path.join(DATA_PATH, \"20171022_d1d2_cdt_vs_bias_result.csv\"), index=False)"
   ]
  },
  {
   "cell_type": "code",
   "execution_count": 21,
   "metadata": {
    "collapsed": false
   },
   "outputs": [
    {
     "data": {
      "text/html": [
       "<div>\n",
       "<table border=\"1\" class=\"dataframe\">\n",
       "  <thead>\n",
       "    <tr style=\"text-align: right;\">\n",
       "      <th></th>\n",
       "      <th>bias</th>\n",
       "      <th>imag</th>\n",
       "      <th>real</th>\n",
       "      <th>cdt1</th>\n",
       "      <th>cdt2</th>\n",
       "    </tr>\n",
       "  </thead>\n",
       "  <tbody>\n",
       "    <tr>\n",
       "      <th>0</th>\n",
       "      <td>3</td>\n",
       "      <td>34.96</td>\n",
       "      <td>6.55</td>\n",
       "      <td>1.348248</td>\n",
       "      <td>1.194394</td>\n",
       "    </tr>\n",
       "    <tr>\n",
       "      <th>1</th>\n",
       "      <td>2</td>\n",
       "      <td>8.93</td>\n",
       "      <td>0.40</td>\n",
       "      <td>1.484685</td>\n",
       "      <td>1.441141</td>\n",
       "    </tr>\n",
       "    <tr>\n",
       "      <th>2</th>\n",
       "      <td>1</td>\n",
       "      <td>2.42</td>\n",
       "      <td>0.29</td>\n",
       "      <td>1.388889</td>\n",
       "      <td>1.377277</td>\n",
       "    </tr>\n",
       "    <tr>\n",
       "      <th>3</th>\n",
       "      <td>0</td>\n",
       "      <td>1.57</td>\n",
       "      <td>0.67</td>\n",
       "      <td>0.970871</td>\n",
       "      <td>0.965065</td>\n",
       "    </tr>\n",
       "    <tr>\n",
       "      <th>4</th>\n",
       "      <td>-1</td>\n",
       "      <td>-2.23</td>\n",
       "      <td>-4.50</td>\n",
       "      <td>0.358358</td>\n",
       "      <td>0.372873</td>\n",
       "    </tr>\n",
       "    <tr>\n",
       "      <th>5</th>\n",
       "      <td>-2</td>\n",
       "      <td>-5.34</td>\n",
       "      <td>-10.77</td>\n",
       "      <td>0.332232</td>\n",
       "      <td>0.364164</td>\n",
       "    </tr>\n",
       "  </tbody>\n",
       "</table>\n",
       "</div>"
      ],
      "text/plain": [
       "   bias   imag   real      cdt1      cdt2\n",
       "0     3  34.96   6.55  1.348248  1.194394\n",
       "1     2   8.93   0.40  1.484685  1.441141\n",
       "2     1   2.42   0.29  1.388889  1.377277\n",
       "3     0   1.57   0.67  0.970871  0.965065\n",
       "4    -1  -2.23  -4.50  0.358358  0.372873\n",
       "5    -2  -5.34 -10.77  0.332232  0.364164"
      ]
     },
     "execution_count": 21,
     "metadata": {},
     "output_type": "execute_result"
    }
   ],
   "source": [
    "data"
   ]
  },
  {
   "cell_type": "code",
   "execution_count": null,
   "metadata": {
    "collapsed": true
   },
   "outputs": [],
   "source": []
  }
 ],
 "metadata": {
  "kernelspec": {
   "display_name": "Python 2",
   "language": "python",
   "name": "python2"
  },
  "language_info": {
   "codemirror_mode": {
    "name": "ipython",
    "version": 2
   },
   "file_extension": ".py",
   "mimetype": "text/x-python",
   "name": "python",
   "nbconvert_exporter": "python",
   "pygments_lexer": "ipython2",
   "version": "2.7.13"
  }
 },
 "nbformat": 4,
 "nbformat_minor": 2
}
